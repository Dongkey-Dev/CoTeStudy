{
 "cells": [
  {
   "cell_type": "code",
   "execution_count": 4,
   "metadata": {},
   "outputs": [],
   "source": [
    "def solution(number, k):\n",
    "    lst = []\n",
    "    \n",
    "    for i, v in enumerate(number):\n",
    "        while lst and lst[-1] < v and k > 0:\n",
    "            lst.pop()\n",
    "            k -= 1\n",
    "        \n",
    "        if k == 0:\n",
    "            lst.extend([x for x in number[i:]])\n",
    "            break\n",
    "        lst.append(v)\n",
    "        \n",
    "    lst = (lst[:-k] if k > 0 else lst)\n",
    "        \n",
    "    return ''.join(lst)"
   ]
  },
  {
   "cell_type": "code",
   "execution_count": 9,
   "metadata": {},
   "outputs": [],
   "source": [
    "solution(\"417725284144444\",10)"
   ]
  },
  {
   "cell_type": "code",
   "execution_count": 5,
   "metadata": {},
   "outputs": [
    {
     "name": "stdout",
     "output_type": "stream",
     "text": [
      "Requirement already satisfied: ipykernel in /mnt/c/Users/USER/code/deepnatural/deep-data/lib/python3.8/site-packages (6.9.2)\n",
      "Requirement already satisfied: debugpy<2.0,>=1.0.0 in /mnt/c/Users/USER/code/deepnatural/deep-data/lib/python3.8/site-packages (from ipykernel) (1.6.0)\n",
      "Requirement already satisfied: jupyter-client<8.0 in /mnt/c/Users/USER/code/deepnatural/deep-data/lib/python3.8/site-packages (from ipykernel) (6.1.12)\n",
      "Requirement already satisfied: tornado<7.0,>=4.2 in /mnt/c/Users/USER/code/deepnatural/deep-data/lib/python3.8/site-packages (from ipykernel) (6.1)\n",
      "Requirement already satisfied: ipython>=7.23.1 in /mnt/c/Users/USER/code/deepnatural/deep-data/lib/python3.8/site-packages (from ipykernel) (7.26.0)\n",
      "Requirement already satisfied: nest-asyncio in /mnt/c/Users/USER/code/deepnatural/deep-data/lib/python3.8/site-packages (from ipykernel) (1.5.1)\n",
      "Requirement already satisfied: matplotlib-inline<0.2.0,>=0.1.0 in /mnt/c/Users/USER/code/deepnatural/deep-data/lib/python3.8/site-packages (from ipykernel) (0.1.2)\n",
      "Requirement already satisfied: traitlets<6.0,>=5.1.0 in /mnt/c/Users/USER/code/deepnatural/deep-data/lib/python3.8/site-packages (from ipykernel) (5.1.1)\n",
      "Requirement already satisfied: psutil in /mnt/c/Users/USER/code/deepnatural/deep-data/lib/python3.8/site-packages (from ipykernel) (5.9.0)\n",
      "Requirement already satisfied: jedi>=0.16 in /mnt/c/Users/USER/code/deepnatural/deep-data/lib/python3.8/site-packages (from ipython>=7.23.1->ipykernel) (0.18.0)\n",
      "Requirement already satisfied: pexpect>4.3 in /mnt/c/Users/USER/code/deepnatural/deep-data/lib/python3.8/site-packages (from ipython>=7.23.1->ipykernel) (4.8.0)\n",
      "Requirement already satisfied: setuptools>=18.5 in /mnt/c/Users/USER/code/deepnatural/deep-data/lib/python3.8/site-packages (from ipython>=7.23.1->ipykernel) (57.1.0)\n",
      "Requirement already satisfied: backcall in /mnt/c/Users/USER/code/deepnatural/deep-data/lib/python3.8/site-packages (from ipython>=7.23.1->ipykernel) (0.2.0)\n",
      "Requirement already satisfied: pygments in /mnt/c/Users/USER/code/deepnatural/deep-data/lib/python3.8/site-packages (from ipython>=7.23.1->ipykernel) (2.9.0)\n",
      "Requirement already satisfied: pickleshare in /mnt/c/Users/USER/code/deepnatural/deep-data/lib/python3.8/site-packages (from ipython>=7.23.1->ipykernel) (0.7.5)\n",
      "Requirement already satisfied: prompt-toolkit!=3.0.0,!=3.0.1,<3.1.0,>=2.0.0 in /mnt/c/Users/USER/code/deepnatural/deep-data/lib/python3.8/site-packages (from ipython>=7.23.1->ipykernel) (3.0.18)\n",
      "Requirement already satisfied: decorator in /mnt/c/Users/USER/code/deepnatural/deep-data/lib/python3.8/site-packages (from ipython>=7.23.1->ipykernel) (5.0.9)\n",
      "Requirement already satisfied: parso<0.9.0,>=0.8.0 in /mnt/c/Users/USER/code/deepnatural/deep-data/lib/python3.8/site-packages (from jedi>=0.16->ipython>=7.23.1->ipykernel) (0.8.2)\n",
      "Requirement already satisfied: jupyter-core>=4.6.0 in /mnt/c/Users/USER/code/deepnatural/deep-data/lib/python3.8/site-packages (from jupyter-client<8.0->ipykernel) (4.7.1)\n",
      "Requirement already satisfied: python-dateutil>=2.1 in /mnt/c/Users/USER/code/deepnatural/deep-data/lib/python3.8/site-packages (from jupyter-client<8.0->ipykernel) (2.8.1)\n",
      "Requirement already satisfied: pyzmq>=13 in /mnt/c/Users/USER/code/deepnatural/deep-data/lib/python3.8/site-packages (from jupyter-client<8.0->ipykernel) (22.2.1)\n",
      "Requirement already satisfied: ptyprocess>=0.5 in /mnt/c/Users/USER/code/deepnatural/deep-data/lib/python3.8/site-packages (from pexpect>4.3->ipython>=7.23.1->ipykernel) (0.7.0)\n",
      "Requirement already satisfied: wcwidth in /mnt/c/Users/USER/code/deepnatural/deep-data/lib/python3.8/site-packages (from prompt-toolkit!=3.0.0,!=3.0.1,<3.1.0,>=2.0.0->ipython>=7.23.1->ipykernel) (0.2.5)\n",
      "Requirement already satisfied: six>=1.5 in /mnt/c/Users/USER/code/deepnatural/deep-data/lib/python3.8/site-packages (from python-dateutil>=2.1->jupyter-client<8.0->ipykernel) (1.16.0)\n",
      "\u001b[33mWARNING: You are using pip version 21.1.2; however, version 22.0.4 is available.\n",
      "You should consider upgrading via the '/mnt/c/Users/USER/code/deepnatural/deep-data/bin/python -m pip install --upgrade pip' command.\u001b[0m\n"
     ]
    }
   ],
   "source": [
    "import sys \n",
    "\n",
    "!{sys.executable} -m pip install -U ipykernel"
   ]
  }
 ],
 "metadata": {
  "kernelspec": {
   "display_name": "deep-data",
   "language": "python",
   "name": "deep-data"
  },
  "language_info": {
   "codemirror_mode": {
    "name": "ipython",
    "version": 3
   },
   "file_extension": ".py",
   "mimetype": "text/x-python",
   "name": "python",
   "nbconvert_exporter": "python",
   "pygments_lexer": "ipython3",
   "version": "3.8.10"
  },
  "orig_nbformat": 4
 },
 "nbformat": 4,
 "nbformat_minor": 2
}
