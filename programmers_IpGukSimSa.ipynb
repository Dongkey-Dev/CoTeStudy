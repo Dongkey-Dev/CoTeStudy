{
 "cells": [
  {
   "cell_type": "code",
   "execution_count": 19,
   "metadata": {},
   "outputs": [
    {
     "name": "stdout",
     "output_type": "stream",
     "text": [
      "[6, -2]\n"
     ]
    },
    {
     "data": {
      "text/plain": [
       "28"
      ]
     },
     "execution_count": 19,
     "metadata": {},
     "output_type": "execute_result"
    }
   ],
   "source": [
    "\"나혼자 생각한 N^2 풀이법\"\n",
    "\n",
    "def solution(n, times):\n",
    "    que = [0 for _ in range(len(times))]\n",
    "    answer = 0\n",
    "    for _ in range(n):\n",
    "        while n != 0:\n",
    "            for idx in [i for i,v in enumerate(que) if v == 0]:\n",
    "                for i in range(len(times)):\n",
    "                    if times[idx] < que[i] + times[i]:\n",
    "                        que[idx] = times[idx]\n",
    "                        n -= 1\n",
    "                        break\n",
    "            que = [i -1 for i in que]\n",
    "            answer += 1\n",
    "    return answer + max(que)\n",
    "\n",
    "n = 6 \n",
    "times = [7,10]\n",
    "solution(n,times)"
   ]
  },
  {
   "cell_type": "code",
   "execution_count": 2,
   "metadata": {},
   "outputs": [
    {
     "data": {
      "text/plain": [
       "2"
      ]
     },
     "execution_count": 2,
     "metadata": {},
     "output_type": "execute_result"
    }
   ],
   "source": [
    "\"이분 탐색법\"\n",
    "\n",
    "def solution(n, times):\n",
    "    left, right = min(times), max(times) * n\n",
    "    checked = 0\n",
    "    answer = 0\n",
    "    while left <= right:\n",
    "        mid = (left+right)//2\n",
    "        checked = 0\n",
    "        for time in times:\n",
    "            checked += mid // time\n",
    "            if checked >= n:\n",
    "                break\n",
    "        if checked >= n:\n",
    "            answer = mid\n",
    "            right = mid-1\n",
    "        elif checked < n:\n",
    "            left = mid+1\n",
    "    \n",
    "    return answer"
   ]
  }
 ],
 "metadata": {
  "interpreter": {
   "hash": "916dbcbb3f70747c44a77c7bcd40155683ae19c65e1c03b4aa3499c5328201f1"
  },
  "kernelspec": {
   "display_name": "Python 3.8.10 64-bit",
   "language": "python",
   "name": "python3"
  },
  "language_info": {
   "codemirror_mode": {
    "name": "ipython",
    "version": 3
   },
   "file_extension": ".py",
   "mimetype": "text/x-python",
   "name": "python",
   "nbconvert_exporter": "python",
   "pygments_lexer": "ipython3",
   "version": "3.8.10"
  },
  "orig_nbformat": 4
 },
 "nbformat": 4,
 "nbformat_minor": 2
}
