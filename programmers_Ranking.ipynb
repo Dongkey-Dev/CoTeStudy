{
 "cells": [
  {
   "cell_type": "code",
   "execution_count": null,
   "metadata": {},
   "outputs": [],
   "source": [
    "def solution(n, results):\n",
    "    win = [set() for _ in range(n+1)]\n",
    "    lose = [set() for _ in range(n+1)]\n",
    "    \n",
    "    for winner, loser in results:\n",
    "        win[winner].add(loser)\n",
    "        lose[loser].add(winner)\n",
    "        \n",
    "    for i in range(1, n+1):\n",
    "        for loser_i in win[i]:\n",
    "            lose[loser_i].update(lose[i])\n",
    "        for winner_i in lose[i]:\n",
    "            lose[i].update(lose[winner])\n",
    "            \n",
    "    print(win[1:])\n",
    "    print(lose[1:])\n",
    "    \n",
    "    answer = len( [i for i in range(1, n+1) if len(win[i]) + len(lose[i]) == n-1] )\n",
    "    return answer"
   ]
  },
  {
   "cell_type": "code",
   "execution_count": 2,
   "metadata": {},
   "outputs": [
    {
     "data": {
      "text/plain": [
       "{1, 2, 3, 4, 5}"
      ]
     },
     "execution_count": 2,
     "metadata": {},
     "output_type": "execute_result"
    }
   ],
   "source": [
    "a = set([1,2,3])\n",
    "b = set([3,4,5])\n",
    "b.update(a)\n",
    "b"
   ]
  },
  {
   "cell_type": "code",
   "execution_count": null,
   "metadata": {},
   "outputs": [],
   "source": []
  }
 ],
 "metadata": {
  "kernelspec": {
   "display_name": "Python 3.8.13 ('pyspark')",
   "language": "python",
   "name": "python3"
  },
  "language_info": {
   "codemirror_mode": {
    "name": "ipython",
    "version": 3
   },
   "file_extension": ".py",
   "mimetype": "text/x-python",
   "name": "python",
   "nbconvert_exporter": "python",
   "pygments_lexer": "ipython3",
   "version": "3.8.13"
  },
  "orig_nbformat": 4,
  "vscode": {
   "interpreter": {
    "hash": "0cc6d34fbbc4974589f3b786d004afe9857b668a1de18edcda9cd1968b469632"
   }
  }
 },
 "nbformat": 4,
 "nbformat_minor": 2
}
