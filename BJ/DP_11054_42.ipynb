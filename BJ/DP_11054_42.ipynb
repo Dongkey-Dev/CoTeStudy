{
 "cells": [
  {
   "cell_type": "code",
   "execution_count": 1,
   "metadata": {},
   "outputs": [
    {
     "data": {
      "text/plain": [
       "'\\n수열 S가 어떤 수 Sk를 기준으로 S1 < S2 < ... Sk-1 < Sk > Sk+1 > ... SN-1 > SN을 만족한다면, 그 수열을 바이토닉 수열이라고 한다.\\n\\n예를 들어, {10, 20, 30, 25, 20}과 {10, 20, 30, 40}, {50, 40, 25, 10} 은 바이토닉 수열이지만,  {1, 2, 3, 2, 1, 2, 3, 2, 1}과 {10, 20, 30, 40, 20, 30} 은 바이토닉 수열이 아니다.\\n\\n수열 A가 주어졌을 때, 그 수열의 부분 수열 중 바이토닉 수열이면서 가장 긴 수열의 길이를 구하는 프로그램을 작성하시오.\\n'"
      ]
     },
     "execution_count": 1,
     "metadata": {},
     "output_type": "execute_result"
    }
   ],
   "source": [
    "    \"\"\"\n",
    "수열 S가 어떤 수 Sk를 기준으로 S1 < S2 < ... Sk-1 < Sk > Sk+1 > ... SN-1 > SN을 만족한다면, 그 수열을 바이토닉 수열이라고 한다.\n",
    "\n",
    "예를 들어, {10, 20, 30, 25, 20}과 {10, 20, 30, 40}, {50, 40, 25, 10} 은 바이토닉 수열이지만,  {1, 2, 3, 2, 1, 2, 3, 2, 1}과 {10, 20, 30, 40, 20, 30} 은 바이토닉 수열이 아니다.\n",
    "\n",
    "수열 A가 주어졌을 때, 그 수열의 부분 수열 중 바이토닉 수열이면서 가장 긴 수열의 길이를 구하는 프로그램을 작성하시오.\n",
    "    \"\"\""
   ]
  },
  {
   "cell_type": "code",
   "execution_count": 17,
   "metadata": {},
   "outputs": [
    {
     "name": "stdout",
     "output_type": "stream",
     "text": [
      "[1, 6, 4, 3, 5, 6, 6, 7, 7, 3, 1]\n"
     ]
    }
   ],
   "source": [
    "def sol(n, L):\n",
    "    dp_left = [1 for _ in range(n)]\n",
    "    dp_right = [1 for _ in range(n)]\n",
    "    L_up = L.copy()\n",
    "    L_dn = L[::-1].copy()\n",
    "    \n",
    "    for i in range(n):\n",
    "        for j in range(i):\n",
    "            if L_up[i] > L_up[j]:\n",
    "                dp_left[i] = max(dp_left[i], dp_left[j]+1)\n",
    "            if L_dn[i] > L_dn[j]:\n",
    "                dp_right[i] = max(dp_right[i], dp_right[j]+1)\n",
    "    dp_right = dp_right[::-1]\n",
    "    \n",
    "    dp_left.insert(0, 0)\n",
    "    dp_right.append(0)\n",
    "    \n",
    "    dp = [i+j for i,j in zip(dp_left, dp_right)]    \n",
    "    \n",
    "    return dp\n",
    "\n",
    "if __name__==\"__main__\":\n",
    "    n = int(input())\n",
    "    L = list(map(int, input().split()))\n",
    "    print(sol(n, L))"
   ]
  },
  {
   "cell_type": "code",
   "execution_count": null,
   "metadata": {},
   "outputs": [],
   "source": [
    "[0, 1, 2, 2, 1, 3, 3, 4, 5, 2, 1]\n",
    "[1, 5, 2, 1, 4, 3, 3, 3, 2, 1, 0]\n",
    "[1, 2, 3, 3, 3, 4, 1, 2, 5, 1]"
   ]
  },
  {
   "cell_type": "code",
   "execution_count": 13,
   "metadata": {},
   "outputs": [
    {
     "data": {
      "text/plain": [
       "[1, 5, 2, 1, 4, 3, 3, 3, 2, 1]"
      ]
     },
     "execution_count": 13,
     "metadata": {},
     "output_type": "execute_result"
    }
   ],
   "source": [
    "[1, 2, 3, 3, 3, 4, 1, 2, 5, 1][::-1]"
   ]
  },
  {
   "cell_type": "code",
   "execution_count": 32,
   "metadata": {},
   "outputs": [
    {
     "name": "stdout",
     "output_type": "stream",
     "text": [
      "[1, 6, 3, 1, 6, 5, 6, 7, 3, 1]\n"
     ]
    }
   ],
   "source": [
    "def sol(n, L):\n",
    "    dp_left = [1 for _ in range(n)]\n",
    "    dp_right = [1 for _ in range(n)]\n",
    "    \n",
    "    for i in range(n):\n",
    "        for j in range(i):\n",
    "            if L[i] > L[j]:\n",
    "                dp_left[i] = max(dp_left[i], dp_left[j]+1)\n",
    "            if L[::-1][i] > L[::-1][j]:\n",
    "                dp_right[i] = max(dp_right[i], dp_right[j]+1)\n",
    "    \n",
    "    dp = [dp_left[i] + dp_right[n-i-1] -1 for i in range(n)]\n",
    "    \n",
    "    return dp\n",
    "\n",
    "if __name__==\"__main__\":\n",
    "    n = int(input())\n",
    "    L = list(map(int, input().split()))\n",
    "    print(sol(n, L))"
   ]
  }
 ],
 "metadata": {
  "kernelspec": {
   "display_name": "deep-data",
   "language": "python",
   "name": "deep-data"
  },
  "language_info": {
   "codemirror_mode": {
    "name": "ipython",
    "version": 3
   },
   "file_extension": ".py",
   "mimetype": "text/x-python",
   "name": "python",
   "nbconvert_exporter": "python",
   "pygments_lexer": "ipython3",
   "version": "3.8.10"
  },
  "orig_nbformat": 4
 },
 "nbformat": 4,
 "nbformat_minor": 2
}
