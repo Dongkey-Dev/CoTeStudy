{
 "cells": [
  {
   "cell_type": "code",
   "execution_count": 1,
   "metadata": {},
   "outputs": [
    {
     "data": {
      "text/plain": [
       "'M이상 N이하의 소수를 모두 출력하는 프로그램을 작성하시오.'"
      ]
     },
     "execution_count": 1,
     "metadata": {},
     "output_type": "execute_result"
    }
   ],
   "source": [
    "\"\"\"M이상 N이하의 소수를 모두 출력하는 프로그램을 작성하시오.\"\"\""
   ]
  },
  {
   "cell_type": "code",
   "execution_count": 38,
   "metadata": {},
   "outputs": [
    {
     "name": "stdout",
     "output_type": "stream",
     "text": [
      "0.02299 sec\n"
     ]
    }
   ],
   "source": [
    "    \"\"\"\n",
    "    이건 그냥 소수 구하는 방법이고\n",
    "    \"\"\"\n",
    "\n",
    "def sol(n):\n",
    "    if n == 1:\n",
    "        return False\n",
    "    else:    \n",
    "        for i in range(2, int(n**0.5)+1):\n",
    "            if n%i==0:\n",
    "                return False \n",
    "        return True\n",
    "    \n",
    "S, E = map(int, input().split())   \n",
    "\n",
    "start = time.time()\n",
    "for i in range(S,E+1):\n",
    "    if sol(i):\n",
    "        pass\n",
    "        # print(i)\n",
    "end = time.time()    \n",
    "print(f\"{end - start:.5f} sec\")\n",
    "    "
   ]
  },
  {
   "cell_type": "code",
   "execution_count": 44,
   "metadata": {},
   "outputs": [
    {
     "name": "stdout",
     "output_type": "stream",
     "text": [
      "0.28017 sec\n"
     ]
    }
   ],
   "source": [
    "\"\"\"\n",
    "이건 에라토스테네스의 체 를 활용한 알고리즘\n",
    "\"\"\"\n",
    "    \n",
    "m, n = map(int, input().split())\n",
    "\n",
    "def isprime(m, n):\n",
    "  n += 1                            # for문 사용을 위한 n += 1\n",
    "  prime = [True] * n                # n개의 [True]가 있는 리스트 생성\n",
    "  for i in range(2, int(n**0.5)+1): # n의 제곱근까지만 검사\n",
    "    if prime[i]:                    # prime[i]가 True일때\n",
    "      for j in range(2*i, n, i):    # prime 내 i의 배수들을 False로 변환\n",
    "        prime[j] = False\n",
    "\n",
    "  for i in range(m, n):\n",
    "    if i > 1 and prime[i] == True:  # 1 이상이면서 남은 소수들을 출력\n",
    "      # print(i)\n",
    "      pass\n",
    "      \n",
    "start = time.time()\n",
    "isprime(m, n)    \n",
    "end = time.time()\n",
    "print(f\"{end - start:.5f} sec\")        "
   ]
  },
  {
   "cell_type": "code",
   "execution_count": 40,
   "metadata": {},
   "outputs": [
    {
     "name": "stdout",
     "output_type": "stream",
     "text": [
      "1.25389 sec\n"
     ]
    }
   ],
   "source": [
    "import time\n",
    "\n",
    "def sol(n):\n",
    "    if n==1:\n",
    "        return False\n",
    "    elif n==2:\n",
    "        return True\n",
    "    s = 2\n",
    "    while s < n**1/2+1:\n",
    "        if n%s !=0:\n",
    "            s+=1\n",
    "        else:\n",
    "            return False\n",
    "    return True\n",
    "    \n",
    "S, E = map(int, input().split())    \n",
    "    \n",
    "n_list = [i for i in range(2,E+1)]\n",
    "res = n_list.copy() \n",
    "\n",
    "i=0\n",
    "used = []\n",
    "\n",
    "start = time.time()\n",
    "while i<len(res):\n",
    "    if res[i] not in used:\n",
    "        used.append(res[i])\n",
    "        if sol(res[i]):\n",
    "            res = [j for j in res if (j%res[i]!=0) or (j==res[i])]\n",
    "    else : \n",
    "        i+=1\n",
    "end = time.time()\n",
    "print(f\"{end - start:.5f} sec\")            \n",
    "\n",
    "for i in [i for i in res if i in range(S, E+1)]: \n",
    "    # print(i)\n",
    "    pass"
   ]
  },
  {
   "cell_type": "code",
   "execution_count": 22,
   "metadata": {},
   "outputs": [
    {
     "data": {
      "text/plain": [
       "False"
      ]
     },
     "execution_count": 22,
     "metadata": {},
     "output_type": "execute_result"
    }
   ],
   "source": [
    "sol(2)"
   ]
  },
  {
   "cell_type": "code",
   "execution_count": 24,
   "metadata": {},
   "outputs": [
    {
     "ename": "ValueError",
     "evalue": "2 is not in list",
     "output_type": "error",
     "traceback": [
      "\u001b[0;31m---------------------------------------------------------------------------\u001b[0m",
      "\u001b[0;31mValueError\u001b[0m                                Traceback (most recent call last)",
      "\u001b[0;32m/tmp/ipykernel_560/1607812426.py\u001b[0m in \u001b[0;36m<module>\u001b[0;34m\u001b[0m\n\u001b[0;32m----> 1\u001b[0;31m \u001b[0;34m[\u001b[0m\u001b[0;36m1\u001b[0m\u001b[0;34m,\u001b[0m\u001b[0;36m3\u001b[0m\u001b[0;34m,\u001b[0m\u001b[0;36m4\u001b[0m\u001b[0;34m]\u001b[0m\u001b[0;34m.\u001b[0m\u001b[0mindex\u001b[0m\u001b[0;34m(\u001b[0m\u001b[0;36m2\u001b[0m\u001b[0;34m)\u001b[0m\u001b[0;34m\u001b[0m\u001b[0;34m\u001b[0m\u001b[0m\n\u001b[0m",
      "\u001b[0;31mValueError\u001b[0m: 2 is not in list"
     ]
    }
   ],
   "source": [
    "[1,3,4].index(2)"
   ]
  }
 ],
 "metadata": {
  "interpreter": {
   "hash": "916dbcbb3f70747c44a77c7bcd40155683ae19c65e1c03b4aa3499c5328201f1"
  },
  "kernelspec": {
   "display_name": "deep-data",
   "language": "python",
   "name": "python3"
  },
  "language_info": {
   "codemirror_mode": {
    "name": "ipython",
    "version": 3
   },
   "file_extension": ".py",
   "mimetype": "text/x-python",
   "name": "python",
   "nbconvert_exporter": "python",
   "pygments_lexer": "ipython3",
   "version": "3.8.10"
  },
  "orig_nbformat": 4
 },
 "nbformat": 4,
 "nbformat_minor": 2
}
