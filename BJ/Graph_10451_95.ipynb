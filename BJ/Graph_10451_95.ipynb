{
 "cells": [
  {
   "cell_type": "code",
   "execution_count": 1,
   "metadata": {},
   "outputs": [
    {
     "data": {
      "text/plain": [
       "'1부터 N까지 정수 N개로 이루어진 순열을 나타내는 방법은 여러 가지가 있다. 예를 들어, 8개의 수로 이루어진 순열 (3, 2, 7, 8, 1, 4, 5, 6)을 배열을 이용해 표현하면  \\n \\\\(\\x08egin{pmatrix} 1 & 2 &3&4&5&6&7&8 \\\\  3& 2&7&8&1&4&5&6 \\\\end{pmatrix}\\\\) 와 같다. 또는, Figure 1과 같이 방향 그래프로 나타낼 수도 있다.\\n\\n순열을 배열을 이용해  \\n \\\\(\\x08egin{pmatrix} 1 & \\\\dots & i & \\\\dots &n \\\\  \\\\pi_1& \\\\dots& \\\\pi_i & \\\\dots & \\\\pi_n \\\\end{pmatrix}\\\\) 로 나타냈다면, i에서 πi로 간선을 이어 그래프로 만들 수 있다.\\n\\nFigure 1에 나와있는 것 처럼, 순열 그래프 (3, 2, 7, 8, 1, 4, 5, 6) 에는 총 3개의 사이클이 있다. 이러한 사이클을 \"순열 사이클\" 이라고 한다.\\n\\nN개의 정수로 이루어진 순열이 주어졌을 때, 순열 사이클의 개수를 구하는 프로그램을 작성하시오.'"
      ]
     },
     "execution_count": 1,
     "metadata": {},
     "output_type": "execute_result"
    }
   ],
   "source": [
    "\"\"\"1부터 N까지 정수 N개로 이루어진 순열을 나타내는 방법은 여러 가지가 있다. 예를 들어, 8개의 수로 이루어진 순열 (3, 2, 7, 8, 1, 4, 5, 6)을 배열을 이용해 표현하면  \n",
    " \\(\\begin{pmatrix} 1 & 2 &3&4&5&6&7&8 \\\\  3& 2&7&8&1&4&5&6 \\end{pmatrix}\\) 와 같다. 또는, Figure 1과 같이 방향 그래프로 나타낼 수도 있다.\n",
    "\n",
    "순열을 배열을 이용해  \n",
    " \\(\\begin{pmatrix} 1 & \\dots & i & \\dots &n \\\\  \\pi_1& \\dots& \\pi_i & \\dots & \\pi_n \\end{pmatrix}\\) 로 나타냈다면, i에서 πi로 간선을 이어 그래프로 만들 수 있다.\n",
    "\n",
    "Figure 1에 나와있는 것 처럼, 순열 그래프 (3, 2, 7, 8, 1, 4, 5, 6) 에는 총 3개의 사이클이 있다. 이러한 사이클을 \"순열 사이클\" 이라고 한다.\n",
    "\n",
    "N개의 정수로 이루어진 순열이 주어졌을 때, 순열 사이클의 개수를 구하는 프로그램을 작성하시오.\"\"\""
   ]
  },
  {
   "cell_type": "code",
   "execution_count": 16,
   "metadata": {},
   "outputs": [
    {
     "name": "stdout",
     "output_type": "stream",
     "text": [
      "7\n",
      "7\n"
     ]
    }
   ],
   "source": [
    "def sol(N_list):\n",
    "    answer = 0\n",
    "    N_gp = [0 for _ in range(len(N_list)+1)]\n",
    "\n",
    "    for i, v in enumerate(N_list):\n",
    "        N_gp[i+1] = v\n",
    "        \n",
    "    foot_print = []\n",
    "    for i in range(1, len(N_list)+1):\n",
    "        if i in foot_print:\n",
    "            continue\n",
    "        n = i \n",
    "        while N_gp[n]:\n",
    "            foot_print.append(n)\n",
    "            if N_gp[n] in foot_print:\n",
    "                answer += 1\n",
    "                break\n",
    "            n = N_gp[n]\n",
    "    print(answer)\n",
    "            \n",
    "if __name__=='__main__':\n",
    "    PN = int(input())\n",
    "    for _ in range(PN):\n",
    "        input()\n",
    "        N_list = list(map(int, input().split()))\n",
    "        sol(N_list)\n",
    "\n",
    "\n",
    "\n",
    "        \n",
    "    \n",
    "    \n",
    "    "
   ]
  }
 ],
 "metadata": {
  "interpreter": {
   "hash": "916dbcbb3f70747c44a77c7bcd40155683ae19c65e1c03b4aa3499c5328201f1"
  },
  "kernelspec": {
   "display_name": "deep-data",
   "language": "python",
   "name": "python3"
  },
  "language_info": {
   "codemirror_mode": {
    "name": "ipython",
    "version": 3
   },
   "file_extension": ".py",
   "mimetype": "text/x-python",
   "name": "python",
   "nbconvert_exporter": "python",
   "pygments_lexer": "ipython3",
   "version": "3.8.10"
  },
  "orig_nbformat": 4
 },
 "nbformat": 4,
 "nbformat_minor": 2
}
