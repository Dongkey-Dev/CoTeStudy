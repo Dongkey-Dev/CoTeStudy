{
 "cells": [
  {
   "cell_type": "code",
   "execution_count": 1,
   "metadata": {},
   "outputs": [
    {
     "data": {
      "text/plain": [
       "'두 개의 자연수를 입력받아 최대 공약수와 최소 공배수를 출력하는 프로그램을 작성하시오.'"
      ]
     },
     "execution_count": 1,
     "metadata": {},
     "output_type": "execute_result"
    }
   ],
   "source": [
    "\"\"\"두 개의 자연수를 입력받아 최대 공약수와 최소 공배수를 출력하는 프로그램을 작성하시오.\"\"\""
   ]
  },
  {
   "cell_type": "code",
   "execution_count": 4,
   "metadata": {},
   "outputs": [
    {
     "name": "stdout",
     "output_type": "stream",
     "text": [
      "6\n",
      "72\n"
     ]
    }
   ],
   "source": [
    "A,B = map(int, input().split())\n",
    "res = []\n",
    "res2 = []\n",
    "i=2\n",
    "while i <= min(A,B): \n",
    "   if A%i==0 and B%i==0:\n",
    "        res.append(i)\n",
    "        res2.append(i)\n",
    "        A,B = A//i, B//i\n",
    "   else:\n",
    "       i+=1\n",
    "res2.extend([A,B])\n",
    "\n",
    "ac = 1\n",
    "ac2 = 1\n",
    "for i in res:\n",
    "    ac*=i\n",
    "for i in res2:\n",
    "    ac2*=i\n",
    "print(ac)\n",
    "print(ac2)"
   ]
  },
  {
   "cell_type": "code",
   "execution_count": 9,
   "metadata": {},
   "outputs": [
    {
     "name": "stdout",
     "output_type": "stream",
     "text": [
      "6\n",
      "72\n"
     ]
    }
   ],
   "source": [
    "A,B = map(int, input().split())\n",
    "def gcd(a,b):\n",
    "    while a%b!=0:\n",
    "        a,b = b,a%b\n",
    "    return b\n",
    "\n",
    "def lcd(a,b):\n",
    "    return int(a*b/gcd(a,b))\n",
    "\n",
    "print(gcd(A,B))\n",
    "print(lcd(A,B))"
   ]
  }
 ],
 "metadata": {
  "interpreter": {
   "hash": "916dbcbb3f70747c44a77c7bcd40155683ae19c65e1c03b4aa3499c5328201f1"
  },
  "kernelspec": {
   "display_name": "deep-data",
   "language": "python",
   "name": "python3"
  },
  "language_info": {
   "codemirror_mode": {
    "name": "ipython",
    "version": 3
   },
   "file_extension": ".py",
   "mimetype": "text/x-python",
   "name": "python",
   "nbconvert_exporter": "python",
   "pygments_lexer": "ipython3",
   "version": "3.8.10"
  },
  "orig_nbformat": 4
 },
 "nbformat": 4,
 "nbformat_minor": 2
}
