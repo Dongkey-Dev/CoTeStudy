{
 "cells": [
  {
   "cell_type": "code",
   "execution_count": 21,
   "metadata": {},
   "outputs": [
    {
     "name": "stdout",
     "output_type": "stream",
     "text": [
      "75\n"
     ]
    }
   ],
   "source": [
    "def sol(n, L):\n",
    "    \n",
    "    if n==1 or n==2:\n",
    "        return sum(L)\n",
    "    dp = [0 for _ in range(n)]\n",
    "    dp[0] = L[0]\n",
    "    dp[1] = dp[0] + L[1]\n",
    "    dp[2] = max(\n",
    "            dp[0] + L[2],\n",
    "            L[1] + L[2],\n",
    "        )\n",
    "    \n",
    "    for i in range(3, n):\n",
    "        dp[i] = max(dp[i-2] + L[i],\n",
    "                    dp[i-3] + L[i-1] + L[i]\n",
    "                    )\n",
    "    return dp[-1]\n",
    "\n",
    "if __name__==\"__main__\":\n",
    "    n = int(input())\n",
    "    L = [] \n",
    "    for i in range(n):\n",
    "        L.append(int(input()))\n",
    "    print(sol(n, L))"
   ]
  },
  {
   "cell_type": "code",
   "execution_count": null,
   "metadata": {},
   "outputs": [],
   "source": [
    "10 20 15 25 10 20 \n",
    "o  o     o     o  => 75 \n",
    "\n",
    "10   5 10 20 10 30 20 50 10 5\n",
    " o   o  o     o     o     o => 125 \n",
    " \n",
    "[10 15 15 40    0  0  0  0  0] = dp\n",
    "\n",
    "10 5 20 10 = dp[i-2] + L[i-1] + L[i]\n"
   ]
  },
  {
   "cell_type": "code",
   "execution_count": null,
   "metadata": {},
   "outputs": [],
   "source": [
    "    1 2 3 4 5 6 7  8  9  10\n",
    "P = 1 1 2 3 5 8 13 21 34 55\n",
    "i번째의 숫자를 수학 기호로 나타내봐 \n",
    "P[i] = P[i-1] + P[i-2]\n",
    "\n",
    "P[9] = P[8] + P[7]\n",
    "  34 = 13 + 21\n",
    "  \n",
    "P[5] = p[4] + p[3]\n",
    "5 = 3 + 2"
   ]
  },
  {
   "cell_type": "code",
   "execution_count": 3,
   "metadata": {},
   "outputs": [],
   "source": [
    "def fibonacci(i):\n",
    "    if i==1 or i==2:\n",
    "        return 1 \n",
    "    else: \n",
    "        return fibonacci(i-2) + fibonacci(i-1)"
   ]
  },
  {
   "cell_type": "code",
   "execution_count": 18,
   "metadata": {},
   "outputs": [
    {
     "data": {
      "text/plain": [
       "55"
      ]
     },
     "execution_count": 18,
     "metadata": {},
     "output_type": "execute_result"
    }
   ],
   "source": [
    "fibonacci(10)"
   ]
  },
  {
   "cell_type": "code",
   "execution_count": 7,
   "metadata": {},
   "outputs": [
    {
     "data": {
      "text/plain": [
       "102334155"
      ]
     },
     "execution_count": 7,
     "metadata": {},
     "output_type": "execute_result"
    }
   ],
   "source": [
    "fibonacci(40)"
   ]
  },
  {
   "cell_type": "code",
   "execution_count": 14,
   "metadata": {},
   "outputs": [],
   "source": [
    "def dp_fibo(i):\n",
    "    dp = [0 for _ in range(i+1)]\n",
    "    dp[1], dp[2] = 1, 1\n",
    "    \n",
    "    for i in range(3,i+1):\n",
    "        dp[i] = dp[i-2] + dp[i-1]\n",
    "    \n",
    "    return dp[-1]\n"
   ]
  },
  {
   "cell_type": "code",
   "execution_count": 17,
   "metadata": {},
   "outputs": [
    {
     "data": {
      "text/plain": [
       "43466557686937456435688527675040625802564660517371780402481729089536555417949051890403879840079255169295922593080322634775209689623239873322471161642996440906533187938298969649928516003704476137795166849228875"
      ]
     },
     "execution_count": 17,
     "metadata": {},
     "output_type": "execute_result"
    }
   ],
   "source": [
    "dp_fibo(1000)"
   ]
  },
  {
   "cell_type": "code",
   "execution_count": null,
   "metadata": {},
   "outputs": [],
   "source": [
    "stair[] = [10 20 15 25]\n",
    "max_start[4] = max_stair[2] + stair[4] or max_stair[1] + max_stair[4]"
   ]
  }
 ],
 "metadata": {
  "interpreter": {
   "hash": "31f2aee4e71d21fbe5cf8b01ff0e069b9275f58929596ceb00d14d90e3e16cd6"
  },
  "kernelspec": {
   "display_name": "deep-data",
   "language": "python",
   "name": "python3"
  },
  "language_info": {
   "codemirror_mode": {
    "name": "ipython",
    "version": 3
   },
   "file_extension": ".py",
   "mimetype": "text/x-python",
   "name": "python",
   "nbconvert_exporter": "python",
   "pygments_lexer": "ipython3",
   "version": "3.8.9"
  },
  "orig_nbformat": 4
 },
 "nbformat": 4,
 "nbformat_minor": 2
}
