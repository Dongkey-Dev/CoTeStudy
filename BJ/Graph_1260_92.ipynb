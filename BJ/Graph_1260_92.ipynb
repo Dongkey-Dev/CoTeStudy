{
 "cells": [
  {
   "cell_type": "code",
   "execution_count": 1,
   "metadata": {},
   "outputs": [
    {
     "data": {
      "text/plain": [
       "'\\nnCm의 끝자리 0의 개수를 출력하는 프로그램을 작성하시오.\\n'"
      ]
     },
     "execution_count": 1,
     "metadata": {},
     "output_type": "execute_result"
    }
   ],
   "source": [
    "\"\"\"\n",
    "nCm의 끝자리 0의 개수를 출력하는 프로그램을 작성하시오.\n",
    "\"\"\""
   ]
  },
  {
   "cell_type": "code",
   "execution_count": 9,
   "metadata": {},
   "outputs": [
    {
     "name": "stdout",
     "output_type": "stream",
     "text": [
      "2\n"
     ]
    }
   ],
   "source": [
    "    \"\"\"\n",
    "    원시적인 방법\n",
    "    \"\"\"\n",
    "\n",
    "def factorial(n):\n",
    "    res = 1\n",
    "    for i in range(2,n+1):\n",
    "        res*=i\n",
    "    return res\n",
    "\n",
    "n,m = map(int, input().split())\n",
    "nCm = factorial(n) / (factorial(n-m) * factorial(m))\n",
    "for i,v in enumerate(str(int(nCm))[::-1]):\n",
    "    if v != '0':\n",
    "        print(i)\n",
    "        break"
   ]
  },
  {
   "cell_type": "code",
   "execution_count": 19,
   "metadata": {},
   "outputs": [
    {
     "name": "stdout",
     "output_type": "stream",
     "text": [
      "0\n"
     ]
    }
   ],
   "source": [
    "\"\"\"\n",
    "원시적인 방법\n",
    "\"\"\"\n",
    "def factorial(n):\n",
    "    res = 1\n",
    "    for i in range(2,n+1):\n",
    "        res*=i\n",
    "    return res    \n",
    "\n",
    "def factorial_start_end(s,e):\n",
    "    res = 1\n",
    "    for i in range(s,e+1):\n",
    "        res*=i\n",
    "    return res    \n",
    "\n",
    "\n",
    "n,m = map(int, input().split())\n",
    "M = max(n-m,m)\n",
    "m = min(n-m,m)\n",
    "nCm = factorial_start_end(M,n) / factorial(m)\n",
    "\n",
    "for i,v in enumerate(str(int(nCm))[::-1]):\n",
    "    if v != '0':\n",
    "        print(i)\n",
    "        break"
   ]
  },
  {
   "cell_type": "code",
   "execution_count": 34,
   "metadata": {},
   "outputs": [
    {
     "name": "stdout",
     "output_type": "stream",
     "text": [
      "9\n"
     ]
    }
   ],
   "source": [
    "\"\"\"\n",
    "알고리즘 방법\n",
    "(다시 풀어보자)\n",
    "\"\"\"\n",
    "def factorial_s_e(s,e):\n",
    "    if s==1:\n",
    "        s=2\n",
    "    num = []\n",
    "    for i in range(s, e+1):\n",
    "        while True:\n",
    "            if i%2==0:\n",
    "                num.append(2)\n",
    "                i/=2\n",
    "            elif i%5==0:\n",
    "                num.append(5)\n",
    "                i/=5\n",
    "            else:\n",
    "                break\n",
    "    return num\n",
    "\n",
    "n,m = map(int, input().split())\n",
    "M = max(n-m,m)\n",
    "m = min(n-m,m)\n",
    "num = factorial_s_e(M,n)\n",
    "den = factorial_s_e(2, m)\n",
    "\n",
    "count_2 = num.count(2) - den.count(2)\n",
    "count_5 = num.count(5) - den.count(5)\n",
    "print(min(count_2,count_5))"
   ]
  },
  {
   "cell_type": "code",
   "execution_count": 1,
   "metadata": {},
   "outputs": [
    {
     "name": "stdout",
     "output_type": "stream",
     "text": [
      "\n",
      "네트워크 1: 192.168.0.0\n",
      "서브넷마스크: 27\n",
      "브로드캐스트: 31\n",
      "IP 주소 범위: 192.168.0.0 ~ 192.168.0.31\n",
      "유효 호스트 IP 주소 범위: 192.168.0.1 ~ 192.168.0.30\n",
      "\n",
      "\n",
      "네트워크 2: 192.168.0.32\n",
      "서브넷마스크: 27\n",
      "브로드캐스트: 63\n",
      "IP 주소 범위: 192.168.0.32 ~ 192.168.0.63\n",
      "유효 호스트 IP 주소 범위: 192.168.0.33 ~ 192.168.0.62\n",
      "\n",
      "\n",
      "네트워크 3: 192.168.0.64\n",
      "서브넷마스크: 27\n",
      "브로드캐스트: 95\n",
      "IP 주소 범위: 192.168.0.64 ~ 192.168.0.95\n",
      "유효 호스트 IP 주소 범위: 192.168.0.65 ~ 192.168.0.94\n",
      "\n",
      "\n",
      "네트워크 4: 192.168.0.96\n",
      "서브넷마스크: 27\n",
      "브로드캐스트: 127\n",
      "IP 주소 범위: 192.168.0.96 ~ 192.168.0.127\n",
      "유효 호스트 IP 주소 범위: 192.168.0.97 ~ 192.168.0.126\n",
      "\n",
      "\n",
      "네트워크 5: 192.168.0.128\n",
      "서브넷마스크: 27\n",
      "브로드캐스트: 159\n",
      "IP 주소 범위: 192.168.0.128 ~ 192.168.0.159\n",
      "유효 호스트 IP 주소 범위: 192.168.0.129 ~ 192.168.0.158\n",
      "\n",
      "\n",
      "네트워크 6: 192.168.0.160\n",
      "서브넷마스크: 27\n",
      "브로드캐스트: 191\n",
      "IP 주소 범위: 192.168.0.160 ~ 192.168.0.191\n",
      "유효 호스트 IP 주소 범위: 192.168.0.161 ~ 192.168.0.190\n",
      "\n",
      "\n",
      "네트워크 7: 192.168.0.192\n",
      "서브넷마스크: 27\n",
      "브로드캐스트: 223\n",
      "IP 주소 범위: 192.168.0.192 ~ 192.168.0.223\n",
      "유효 호스트 IP 주소 범위: 192.168.0.193 ~ 192.168.0.222\n",
      "\n",
      "\n",
      "네트워크 8: 192.168.0.224\n",
      "서브넷마스크: 27\n",
      "브로드캐스트: 255\n",
      "IP 주소 범위: 192.168.0.224 ~ 192.168.0.255\n",
      "유효 호스트 IP 주소 범위: 192.168.0.225 ~ 192.168.0.254\n",
      "\n"
     ]
    }
   ],
   "source": [
    "from string import Template\n",
    "from math import log\n",
    "\n",
    "t = Template(\"\"\"\n",
    "네트워크 $n: $header.$network_adr\n",
    "서브넷마스크: $subnet\n",
    "브로드캐스트: $broadcast\n",
    "IP 주소 범위: $header.$network_adr ~ $header.$broadcast\n",
    "유효 호스트 IP 주소 범위: $header.$start_adr ~ $header.$end_adr\n",
    "\"\"\")\n",
    "\n",
    "network_adr = input(\"Network address? >\").split('.')\n",
    "header = '.'.join(network_adr[:3])\n",
    "network_adr = int(network_adr[-1])\n",
    "host = int(input(\"How many hosts? >\"))\n",
    "\n",
    "divide_by = 2\n",
    "while divide_by < host:\n",
    "    divide_by *= 2\n",
    "    \n",
    "\n",
    "subnet = 32 - int(log(divide_by, 2))\n",
    "broadcast = divide_by - 1\n",
    "\n",
    "for n in range(1, 256 // divide_by + 1):\n",
    "    print(t.substitute(\n",
    "        n=n, header=header,\n",
    "        network_adr=network_adr,\n",
    "        subnet=subnet,\n",
    "        broadcast=broadcast,\n",
    "        start_adr=network_adr+1,\n",
    "        end_adr=broadcast-1\n",
    "    ))\n",
    "    network_adr += divide_by\n",
    "    broadcast += divide_by\n"
   ]
  },
  {
   "cell_type": "code",
   "execution_count": null,
   "metadata": {},
   "outputs": [],
   "source": []
  }
 ],
 "metadata": {
  "interpreter": {
   "hash": "916dbcbb3f70747c44a77c7bcd40155683ae19c65e1c03b4aa3499c5328201f1"
  },
  "kernelspec": {
   "display_name": "deep-data",
   "language": "python",
   "name": "python3"
  },
  "language_info": {
   "codemirror_mode": {
    "name": "ipython",
    "version": 3
   },
   "file_extension": ".py",
   "mimetype": "text/x-python",
   "name": "python",
   "nbconvert_exporter": "python",
   "pygments_lexer": "ipython3",
   "version": "3.8.9"
  },
  "orig_nbformat": 4
 },
 "nbformat": 4,
 "nbformat_minor": 2
}
