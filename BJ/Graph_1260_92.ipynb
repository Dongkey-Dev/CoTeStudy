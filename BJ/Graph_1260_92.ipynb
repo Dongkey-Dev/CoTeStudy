{
 "cells": [
  {
   "cell_type": "code",
   "execution_count": 2,
   "metadata": {},
   "outputs": [
    {
     "data": {
      "text/plain": [
       "'그래프를 DFS로 탐색한 결과와 BFS로 탐색한 결과를 출력하는 프로그램을 작성하시오. 단, 방문할 수 있는 정점이 여러 개인 경우에는 정점 번호가 작은 것을 먼저 방문하고, 더 이상 방문할 수 있는 점이 없는 경우 종료한다. 정점 번호는 1번부터 N번까지이다.'"
      ]
     },
     "execution_count": 2,
     "metadata": {},
     "output_type": "execute_result"
    }
   ],
   "source": [
    "\"\"\"그래프를 DFS로 탐색한 결과와 BFS로 탐색한 결과를 출력하는 프로그램을 작성하시오. 단, 방문할 수 있는 정점이 여러 개인 경우에는 정점 번호가 작은 것을 먼저 방문하고, 더 이상 방문할 수 있는 점이 없는 경우 종료한다. 정점 번호는 1번부터 N번까지이다.\"\"\""
   ]
  },
  {
   "cell_type": "code",
   "execution_count": 1,
   "metadata": {},
   "outputs": [
    {
     "name": "stdout",
     "output_type": "stream",
     "text": [
      "[1000, 999]\n"
     ]
    }
   ],
   "source": [
    "from collections import deque\n",
    "\n",
    "class node:\n",
    "    def __init__(self, n):\n",
    "        self.n = n\n",
    "        self.connected = []\n",
    "    def connect(self, n):\n",
    "        self.connected.append(n)\n",
    "        \n",
    "def add(a,b):\n",
    "    globals()[f'node_{a}'].connect(b)\n",
    "    globals()[f'node_{b}'].connect(a)\n",
    "\n",
    "stack = []\n",
    "deque = deque()\n",
    "\n",
    "result = []\n",
    "\n",
    "n,m,v = map(int, input().split())\n",
    "line_list = []\n",
    "for _ in range(m):\n",
    "    a,b = map(int , input().split())\n",
    "    if f'node_{a}' not in globals():\n",
    "        globals()[f'node_{a}'] = node(a)\n",
    "    if f'node_{b}' not in globals():\n",
    "        globals()[f'node_{b}'] = node(b)    \n",
    "    add(a,b)\n",
    "    \n",
    "#DFS\n",
    "foot_print = [v]\n",
    "result = []\n",
    "cnt = 1\n",
    "while cnt < 20:\n",
    "    \"\"\"\n",
    "    노드 n에 연결되어 있는것 중, foot_print에 없는것은 다음 노드로 설정하여 내려가고, \n",
    "    모든 자식노드가 foot_print에 있으면, 상위노드로 올라감.\n",
    "    \"\"\"\n",
    "\n",
    "print(foot_print)    \n",
    "    \n",
    "#BFS\n",
    "foot_print = []\n",
    "deque.append(v)\n",
    "foot_print.append(v)\n",
    "cnt = 1\n",
    "while True:\n",
    "    cur_n = deque.popleft()\n",
    "    cur = globals()[f'node_{cur_n}']\n",
    "    cur.connected.sort()\n",
    "    for n in cur.connected:\n",
    "        if n not in foot_print:\n",
    "            deque.append(n)\n",
    "            foot_print.append(n)\n",
    "    if not deque or len(foot_print) == n:\n",
    "        break \n",
    "    cnt+=1\n",
    "\n",
    "print(foot_print)"
   ]
  },
  {
   "cell_type": "code",
   "execution_count": 9,
   "metadata": {},
   "outputs": [
    {
     "data": {
      "text/plain": [
       "[2, 2, 2, 2, 2, 3, 3, 3, 3, 3, 4, 4]"
      ]
     },
     "execution_count": 9,
     "metadata": {},
     "output_type": "execute_result"
    }
   ],
   "source": [
    "node_1.connected\n"
   ]
  }
 ],
 "metadata": {
  "interpreter": {
   "hash": "916dbcbb3f70747c44a77c7bcd40155683ae19c65e1c03b4aa3499c5328201f1"
  },
  "kernelspec": {
   "display_name": "deep-data",
   "language": "python",
   "name": "python3"
  },
  "language_info": {
   "codemirror_mode": {
    "name": "ipython",
    "version": 3
   },
   "file_extension": ".py",
   "mimetype": "text/x-python",
   "name": "python",
   "nbconvert_exporter": "python",
   "pygments_lexer": "ipython3",
   "version": "3.8.10"
  },
  "orig_nbformat": 4
 },
 "nbformat": 4,
 "nbformat_minor": 2
}
