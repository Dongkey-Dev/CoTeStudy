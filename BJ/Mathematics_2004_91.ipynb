{
 "cells": [
  {
   "cell_type": "code",
   "execution_count": 1,
   "metadata": {},
   "outputs": [
    {
     "data": {
      "text/plain": [
       "'\\nnCm의 끝자리 0의 개수를 출력하는 프로그램을 작성하시오.\\n'"
      ]
     },
     "execution_count": 1,
     "metadata": {},
     "output_type": "execute_result"
    }
   ],
   "source": [
    "\"\"\"\n",
    "nCm의 끝자리 0의 개수를 출력하는 프로그램을 작성하시오.\n",
    "\"\"\""
   ]
  },
  {
   "cell_type": "code",
   "execution_count": 9,
   "metadata": {},
   "outputs": [
    {
     "name": "stdout",
     "output_type": "stream",
     "text": [
      "2\n"
     ]
    }
   ],
   "source": [
    "    \"\"\"\n",
    "    원시적인 방법\n",
    "    \"\"\"\n",
    "\n",
    "def factorial(n):\n",
    "    res = 1\n",
    "    for i in range(2,n+1):\n",
    "        res*=i\n",
    "    return res\n",
    "\n",
    "n,m = map(int, input().split())\n",
    "nCm = factorial(n) / (factorial(n-m) * factorial(m))\n",
    "for i,v in enumerate(str(int(nCm))[::-1]):\n",
    "    if v != '0':\n",
    "        print(i)\n",
    "        break"
   ]
  },
  {
   "cell_type": "code",
   "execution_count": 19,
   "metadata": {},
   "outputs": [
    {
     "name": "stdout",
     "output_type": "stream",
     "text": [
      "0\n"
     ]
    }
   ],
   "source": [
    "\"\"\"\n",
    "원시적인 방법\n",
    "\"\"\"\n",
    "def factorial(n):\n",
    "    res = 1\n",
    "    for i in range(2,n+1):\n",
    "        res*=i\n",
    "    return res    \n",
    "\n",
    "def factorial_start_end(s,e):\n",
    "    res = 1\n",
    "    for i in range(s,e+1):\n",
    "        res*=i\n",
    "    return res    \n",
    "\n",
    "\n",
    "n,m = map(int, input().split())\n",
    "M = max(n-m,m)\n",
    "m = min(n-m,m)\n",
    "nCm = factorial_start_end(M,n) / factorial(m)\n",
    "\n",
    "for i,v in enumerate(str(int(nCm))[::-1]):\n",
    "    if v != '0':\n",
    "        print(i)\n",
    "        break"
   ]
  },
  {
   "cell_type": "code",
   "execution_count": 34,
   "metadata": {},
   "outputs": [
    {
     "name": "stdout",
     "output_type": "stream",
     "text": [
      "9\n"
     ]
    }
   ],
   "source": [
    "\"\"\"\n",
    "알고리즘 방법\n",
    "(다시 풀어보자)\n",
    "\"\"\"\n",
    "def factorial_s_e(s,e):\n",
    "    if s==1:\n",
    "        s=2\n",
    "    num = []\n",
    "    for i in range(s, e+1):\n",
    "        while True:\n",
    "            if i%2==0:\n",
    "                num.append(2)\n",
    "                i/=2\n",
    "            elif i%5==0:\n",
    "                num.append(5)\n",
    "                i/=5\n",
    "            else:\n",
    "                break\n",
    "    return num\n",
    "\n",
    "n,m = map(int, input().split())\n",
    "M = max(n-m,m)\n",
    "m = min(n-m,m)\n",
    "num = factorial_s_e(M,n)\n",
    "den = factorial_s_e(2, m)\n",
    "\n",
    "count_2 = num.count(2) - den.count(2)\n",
    "count_5 = num.count(5) - den.count(5)\n",
    "print(min(count_2,count_5))"
   ]
  }
 ],
 "metadata": {
  "interpreter": {
   "hash": "916dbcbb3f70747c44a77c7bcd40155683ae19c65e1c03b4aa3499c5328201f1"
  },
  "kernelspec": {
   "display_name": "deep-data",
   "language": "python",
   "name": "python3"
  },
  "language_info": {
   "codemirror_mode": {
    "name": "ipython",
    "version": 3
   },
   "file_extension": ".py",
   "mimetype": "text/x-python",
   "name": "python",
   "nbconvert_exporter": "python",
   "pygments_lexer": "ipython3",
   "version": "3.8.9"
  },
  "orig_nbformat": 4
 },
 "nbformat": 4,
 "nbformat_minor": 2
}
