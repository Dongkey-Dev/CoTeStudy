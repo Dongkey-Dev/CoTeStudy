{
 "cells": [
  {
   "cell_type": "code",
   "execution_count": 1,
   "metadata": {},
   "outputs": [
    {
     "data": {
      "text/plain": [
       "'\\n0과 1로만 이루어진 수를 이진수라 한다. 이러한 이진수 중 특별한 성질을 갖는 것들이 있는데, 이들을 이친수(pinary number)라 한다. 이친수는 다음의 성질을 만족한다.\\n\\n이친수는 0으로 시작하지 않는다.\\n이친수에서는 1이 두 번 연속으로 나타나지 않는다. 즉, 11을 부분 문자열로 갖지 않는다.\\n예를 들면 1, 10, 100, 101, 1000, 1001 등이 이친수가 된다. 하지만 0010101이나 101101은 각각 1, 2번 규칙에 위배되므로 이친수가 아니다.\\n\\nN(1 ≤ N ≤ 90)이 주어졌을 때, N자리 이친수의 개수를 구하는 프로그램을 작성하시오.\\n'"
      ]
     },
     "execution_count": 1,
     "metadata": {},
     "output_type": "execute_result"
    }
   ],
   "source": [
    "    \"\"\"\n",
    "상근이의 여동생 상냥이는 문방구에서 스티커 2n개를 구매했다. 스티커는 그림 (a)와 같이 2행 n열로 배치되어 있다. 상냥이는 스티커를 이용해 책상을 꾸미려고 한다.\n",
    "\n",
    "상냥이가 구매한 스티커의 품질은 매우 좋지 않다. 스티커 한 장을 떼면, 그 스티커와 변을 공유하는 스티커는 모두 찢어져서 사용할 수 없게 된다. 즉, 뗀 스티커의 왼쪽, 오른쪽, 위, 아래에 있는 스티커는 사용할 수 없게 된다.\n",
    "\n",
    "\n",
    "\n",
    "모든 스티커를 붙일 수 없게된 상냥이는 각 스티커에 점수를 매기고, 점수의 합이 최대가 되게 스티커를 떼어내려고 한다. 먼저, 그림 (b)와 같이 각 스티커에 점수를 매겼다. 상냥이가 뗄 수 있는 스티커의 점수의 최댓값을 구하는 프로그램을 작성하시오. 즉, 2n개의 스티커 중에서 점수의 합이 최대가 되면서 서로 변을 공유 하지 않는 스티커 집합을 구해야 한다.\n",
    "\n",
    "위의 그림의 경우에 점수가 50, 50, 100, 60인 스티커를 고르면, 점수는 260이 되고 이 것이 최대 점수이다. 가장 높은 점수를 가지는 두 스티커 (100과 70)은 변을 공유하기 때문에, 동시에 뗄 수 없다.\n",
    "    \"\"\""
   ]
  },
  {
   "cell_type": "code",
   "execution_count": 2,
   "metadata": {},
   "outputs": [],
   "source": [
    "# def get_after_stic(L1,L2,idx):\n",
    "#     idx = int(idx[1])\n",
    "#     if idx[0] == \"1\":\n",
    "#         L1[idx-1], L1[idx+1], L2[idx] = 0,0,0\n",
    "#     else:\n",
    "#         L2[idx-1], L2[idx+1], L1[idx] = 0,0,0\n",
    "#     return L1,L2\n",
    "        \n",
    "# def sol(n,L1,L2):\n",
    "#     L1.insert(0, 0)\n",
    "#     L2.insert(0, 0)\n",
    "#     L1.append(0)\n",
    "#     L2.append(0)\n",
    "#     dp = [0 for _ in range(n+1)]\n",
    "#     last_flag = \"\"\n",
    "#     if L1[1] > L2[1]:\n",
    "#         L1, L2 = get_after_stic(L1,L2,1)\n",
    "#     dp[1] = max(L1[0],L2[0])\n",
    "    \n",
    "    \n",
    "#     dp[2] = max(L1[0] + L2[1], L1[1] + L2[0])\n",
    "#     dp[3] = max(L1[0] + L2[1] + L1[2], L1[1] + L2[0] + L2[2])\n",
    "\n",
    "#     for i in range(4, n+1):\n",
    "#         dp[i] = max(dp[i-1] + )"
   ]
  },
  {
   "cell_type": "code",
   "execution_count": null,
   "metadata": {},
   "outputs": [],
   "source": [
    "def sol(n,L1,L2):\n",
    "    dp = [0 for _ in range(n+1)]\n",
    "    dp[1] = max(L1[0],L2[0])\n",
    "    dp[2] = max(L1[0] + L2[1], L1[1] + L2[0])\n",
    "    dp[3] = max(L1[0] + L2[1] + L1[2], L1[1] + L2[0] + L2[2], dp[1] + max(L2[2],L1[2]))\n",
    "\n",
    "    for i in range(4, n+1):\n",
    "        dp[i] = max(dp[i-1] + )"
   ]
  },
  {
   "cell_type": "code",
   "execution_count": 3,
   "metadata": {},
   "outputs": [
    {
     "data": {
      "text/plain": [
       "2"
      ]
     },
     "execution_count": 3,
     "metadata": {},
     "output_type": "execute_result"
    }
   ],
   "source": [
    "sol(3)"
   ]
  },
  {
   "cell_type": "code",
   "execution_count": 32,
   "metadata": {},
   "outputs": [
    {
     "data": {
      "text/plain": [
       "220"
      ]
     },
     "execution_count": 32,
     "metadata": {},
     "output_type": "execute_result"
    }
   ],
   "source": [
    "1: 1 \n",
    "2: 10 \n",
    "3: 101 100\n",
    "4: 1000 1001 1010 \n",
    "5: 10000 10001 10010 10100 10101"
   ]
  }
 ],
 "metadata": {
  "kernelspec": {
   "display_name": "deep-data",
   "language": "python",
   "name": "deep-data"
  },
  "language_info": {
   "codemirror_mode": {
    "name": "ipython",
    "version": 3
   },
   "file_extension": ".py",
   "mimetype": "text/x-python",
   "name": "python",
   "nbconvert_exporter": "python",
   "pygments_lexer": "ipython3",
   "version": "3.8.10"
  },
  "orig_nbformat": 4
 },
 "nbformat": 4,
 "nbformat_minor": 2
}
