{
 "cells": [
  {
   "cell_type": "code",
   "execution_count": 1,
   "metadata": {},
   "outputs": [
    {
     "data": {
      "text/plain": [
       "'그래프의 정점의 집합을 둘로 분할하여, 각 집합에 속한 정점끼리는 서로 인접하지 않도록 분할할 수 있을 때, 그러한 그래프를 특별히 이분 그래프 (Bipartite Graph) 라 부른다.\\n\\n그래프가 입력으로 주어졌을 때, 이 그래프가 이분 그래프인지 아닌지 판별하는 프로그램을 작성하시오.'"
      ]
     },
     "execution_count": 1,
     "metadata": {},
     "output_type": "execute_result"
    }
   ],
   "source": [
    "\"\"\"그래프의 정점의 집합을 둘로 분할하여, 각 집합에 속한 정점끼리는 서로 인접하지 않도록 분할할 수 있을 때, 그러한 그래프를 특별히 이분 그래프 (Bipartite Graph) 라 부른다.\n",
    "\n",
    "그래프가 입력으로 주어졌을 때, 이 그래프가 이분 그래프인지 아닌지 판별하는 프로그램을 작성하시오.\"\"\""
   ]
  },
  {
   "cell_type": "code",
   "execution_count": 9,
   "metadata": {},
   "outputs": [
    {
     "name": "stdout",
     "output_type": "stream",
     "text": [
      "YES\n",
      "NO\n"
     ]
    }
   ],
   "source": [
    "from collections import deque\n",
    "import sys\n",
    "\n",
    "class node():\n",
    "    def __init__(self, n):\n",
    "        self.n = n\n",
    "        self.c = \"\"\n",
    "        self.connected = []\n",
    "        \n",
    "    def connect(self, n):\n",
    "        self.connected.append(n)\n",
    "        \n",
    "def add(a,b):\n",
    "    globals()[f'node_{a}'].connect(b)\n",
    "    globals()[f'node_{b}'].connect(a)\n",
    "            \n",
    "def bfs(deq):\n",
    "    global answer\n",
    "    while deq:\n",
    "        cur_num = deq.popleft()\n",
    "        cur = globals()[f'node_{cur_num}']\n",
    "        if not cur.c:\n",
    "            cur.c = \"R\"\n",
    "        for i in cur.connected:\n",
    "            if i not in foot_print:\n",
    "                deq.append(i)\n",
    "                foot_print.append(i)\n",
    "            next_node = globals()[f'node_{i}']\n",
    "            if next_node.c and next_node.c == cur.c:\n",
    "                answer = \"NO\"\n",
    "                return False\n",
    "            if not next_node.c: \n",
    "                if cur.c == 'R':\n",
    "                    next_node.c = 'B'\n",
    "                else: \n",
    "                    next_node.c = 'R'\n",
    "    return True\n",
    "            \n",
    "\n",
    "problem_num = int(sys.stdin.readline())\n",
    "\n",
    "for _ in range(problem_num):\n",
    "    answer =  \"YES\"   \n",
    "    N,M = map(int, sys.stdin.readline().split())\n",
    "\n",
    "    for i in range(1, N+1):\n",
    "        globals()[f'node_{i}'] = node(i)\n",
    "\n",
    "    for i in range(M):\n",
    "        a,b = map(int, sys.stdin.readline().split())\n",
    "        add(a,b)\n",
    "        \n",
    "    foot_print = []    \n",
    "\n",
    "    for i in range(1,N+1):\n",
    "        bfs(deque([i]))\n",
    "    print(answer)\n",
    "        \n",
    "    for i in [i for i in globals().keys() if 'node_' in i]:\n",
    "        del globals()[f'{i}']\n"
   ]
  }
 ],
 "metadata": {
  "interpreter": {
   "hash": "916dbcbb3f70747c44a77c7bcd40155683ae19c65e1c03b4aa3499c5328201f1"
  },
  "kernelspec": {
   "display_name": "deep-data",
   "language": "python",
   "name": "python3"
  },
  "language_info": {
   "codemirror_mode": {
    "name": "ipython",
    "version": 3
   },
   "file_extension": ".py",
   "mimetype": "text/x-python",
   "name": "python",
   "nbconvert_exporter": "python",
   "pygments_lexer": "ipython3",
   "version": "3.8.10"
  },
  "orig_nbformat": 4
 },
 "nbformat": 4,
 "nbformat_minor": 2
}
