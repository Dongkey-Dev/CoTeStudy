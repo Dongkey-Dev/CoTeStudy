{
 "cells": [
  {
   "cell_type": "code",
   "execution_count": 1,
   "metadata": {},
   "outputs": [
    {
     "data": {
      "text/plain": [
       "'2진수가 주어졌을 때, 8진수로 변환하는 프로그램을 작성하시오.'"
      ]
     },
     "execution_count": 1,
     "metadata": {},
     "output_type": "execute_result"
    }
   ],
   "source": [
    "\"\"\"8진수가 주어졌을 때, 2진수로 변환하는 프로그램을 작성하시오.\"\"\""
   ]
  },
  {
   "cell_type": "code",
   "execution_count": 1,
   "metadata": {},
   "outputs": [
    {
     "name": "stdout",
     "output_type": "stream",
     "text": [
      "11001100\n"
     ]
    }
   ],
   "source": [
    "\"1차\"\n",
    "\n",
    "def _8to2(i):\n",
    "    if i=='0':\n",
    "        return '000'\n",
    "    elif i=='1':\n",
    "        return '001'\n",
    "    elif i=='2':\n",
    "        return '010'\n",
    "    elif i=='3':\n",
    "        return '011'\n",
    "    elif i=='4':\n",
    "        return '100'\n",
    "    elif i=='5':\n",
    "        return '101'\n",
    "    elif i=='6':\n",
    "        return '110'\n",
    "    elif i=='7':\n",
    "        return '111'\n",
    "\n",
    "\n",
    "n = input()\n",
    "answer = \"\"\n",
    "for v in n:\n",
    "    answer+=_8to2(v)\n",
    "            \n",
    "print(int(answer))"
   ]
  },
  {
   "cell_type": "code",
   "execution_count": 48,
   "metadata": {},
   "outputs": [
    {
     "name": "stdout",
     "output_type": "stream",
     "text": [
      "['101']\n",
      "5\n"
     ]
    }
   ],
   "source": [
    "\"2차\"\n",
    "\n",
    "def split_3(n):\n",
    "    answer = ''\n",
    "    for i,v in enumerate(n[::-1]):\n",
    "        if i%3==0:\n",
    "            answer+=f',{v}'\n",
    "        else:\n",
    "            answer+=v\n",
    "    return [i for i in answer[::-1].split(',') if i]\n",
    "\n",
    "n = split_3(input())\n",
    "res = ''\n",
    "\n",
    "for i in n:\n",
    "    a = 0\n",
    "    for j,v in enumerate(i):\n",
    "        a+=int(v)*2**(len(i)-1-j)\n",
    "    res+=str(a)\n",
    "print(res)"
   ]
  }
 ],
 "metadata": {
  "interpreter": {
   "hash": "916dbcbb3f70747c44a77c7bcd40155683ae19c65e1c03b4aa3499c5328201f1"
  },
  "kernelspec": {
   "display_name": "deep-data",
   "language": "python",
   "name": "python3"
  },
  "language_info": {
   "codemirror_mode": {
    "name": "ipython",
    "version": 3
   },
   "file_extension": ".py",
   "mimetype": "text/x-python",
   "name": "python",
   "nbconvert_exporter": "python",
   "pygments_lexer": "ipython3",
   "version": "3.8.10"
  },
  "orig_nbformat": 4
 },
 "nbformat": 4,
 "nbformat_minor": 2
}
