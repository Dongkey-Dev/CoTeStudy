{
 "cells": [
  {
   "cell_type": "code",
   "execution_count": 1,
   "metadata": {},
   "outputs": [
    {
     "data": {
      "text/plain": [
       "'은진이의 집 앞에는 많은 나무가 심어져 있는 아름다운 정원이 있다.\\n\\n최근에 새로운 법이 제정되었다. 이 법은 모든 정원은 울타리로 둘러쌓여야 한다는 법이다. 울타리는 반드시 변이 축에 평행한 직사각형 모양이어야 한다. 모든 나무는 울타리의 안에 있거나, 울타리의 경계에 접해 있어야 한다.\\n\\n이러한 새로운 법을 듣게된 은진이는 마음이 아팠다. 안타깝게도, 은진이는 울타리를 만들 나무를 살 돈이 없다. 따라서, 은진이는 정원에 심어져있는 나무를 조금 잘라 울타리를 만드는 방법밖에 없다.\\n\\n각 나무가 심어져 있는 (x, y)위치와, 나무를 베었을 때, 만들 수 있는 울타리의 길이가 주어진다.\\n\\n은진이는 나무를 매우 사랑하기 때문에, 나무를 되도록이면 조금만 나무를 벌목하려고 한다. 은진이가 새로운 법을 지키기 위해 잘라야 하는 나무 개수의 최솟값을 구하는 프로그램을 작성하시오.\\n\\n가로 세로의 길이 중 하나가 0이어도 직사각형이며, 모두 0이어도 직사각형이다.'"
      ]
     },
     "execution_count": 1,
     "metadata": {},
     "output_type": "execute_result"
    }
   ],
   "source": [
    "\"\"\"은진이의 집 앞에는 많은 나무가 심어져 있는 아름다운 정원이 있다.\n",
    "\n",
    "최근에 새로운 법이 제정되었다. 이 법은 모든 정원은 울타리로 둘러쌓여야 한다는 법이다. 울타리는 반드시 변이 축에 평행한 직사각형 모양이어야 한다. 모든 나무는 울타리의 안에 있거나, 울타리의 경계에 접해 있어야 한다.\n",
    "\n",
    "이러한 새로운 법을 듣게된 은진이는 마음이 아팠다. 안타깝게도, 은진이는 울타리를 만들 나무를 살 돈이 없다. 따라서, 은진이는 정원에 심어져있는 나무를 조금 잘라 울타리를 만드는 방법밖에 없다.\n",
    "\n",
    "각 나무가 심어져 있는 (x, y)위치와, 나무를 베었을 때, 만들 수 있는 울타리의 길이가 주어진다.\n",
    "\n",
    "은진이는 나무를 매우 사랑하기 때문에, 나무를 되도록이면 조금만 나무를 벌목하려고 한다. 은진이가 새로운 법을 지키기 위해 잘라야 하는 나무 개수의 최솟값을 구하는 프로그램을 작성하시오.\n",
    "\n",
    "가로 세로의 길이 중 하나가 0이어도 직사각형이며, 모두 0이어도 직사각형이다.\"\"\""
   ]
  },
  {
   "cell_type": "code",
   "execution_count": 9,
   "metadata": {},
   "outputs": [
    {
     "name": "stdout",
     "output_type": "stream",
     "text": [
      "[[3, 4, 4], [10, 10, 2], [6, 6, 2], [2, 9, 4], [8, 8, 4], [7, 7, 5], [5, 3, 4], [4, 2, 4], [9, 5, 2]]\n",
      "[[3, 4, 4], [6, 6, 2], [2, 9, 4], [8, 8, 4], [7, 7, 5], [5, 3, 4], [4, 2, 4], [9, 5, 2]]\n",
      "[[3, 4, 4], [6, 6, 2], [8, 8, 4], [7, 7, 5], [5, 3, 4], [4, 2, 4], [9, 5, 2]]\n",
      "[[6, 6, 2], [8, 8, 4], [7, 7, 5], [5, 3, 4], [4, 2, 4], [9, 5, 2]]\n",
      "[[6, 6, 2], [8, 8, 4], [7, 7, 5], [5, 3, 4], [9, 5, 2]]\n",
      "[[6, 6, 2], [8, 8, 4], [7, 7, 5], [9, 5, 2]]\n",
      "6\n"
     ]
    }
   ],
   "source": [
    "def check_size_square(l_l):\n",
    "    x, y = [], []\n",
    "    for l in l_l:\n",
    "        x.append(l[0])\n",
    "        y.append(l[1])\n",
    "    x = sorted(x)\n",
    "    y = sorted(y)\n",
    "    \n",
    "    return ((x[-1] - x[0] + y[-1] - y[0]) * 2)\n",
    "        \n",
    "N = 10\n",
    "info = [list(map(int, i.split())) for i in \"\"\"3 4 4\n",
    "10 10 2\n",
    "6 6 2\n",
    "2 9 4\n",
    "8 8 4\n",
    "7 7 5\n",
    "5 3 4\n",
    "4 2 4\n",
    "9 5 2\n",
    "1 1 3\"\"\".split('\\n')]\n",
    "\n",
    "answer = 0\n",
    "lowest = 9999\n",
    "lowest_ll = []\n",
    "sum_tree_size = 0\n",
    "after_tree_size = 0\n",
    "\n",
    "while lowest > 0:\n",
    "    for i, l in enumerate(info):\n",
    "        ll = info.copy()\n",
    "        tree_size = l[2]\n",
    "        ll.pop( ll.index(l) )\n",
    "        demand_size = check_size_square(ll) - (tree_size + sum_tree_size)\n",
    "        if lowest > demand_size:\n",
    "            after_tree_size = tree_size\n",
    "            lowest = demand_size\n",
    "            lowest_ll = ll.copy()\n",
    "    print(lowest_ll)\n",
    "    sum_tree_size += after_tree_size            \n",
    "    info = lowest_ll.copy()\n",
    "    answer += 1\n",
    "    \n",
    "print(answer)\n"
   ]
  },
  {
   "cell_type": "code",
   "execution_count": 11,
   "metadata": {},
   "outputs": [
    {
     "name": "stdout",
     "output_type": "stream",
     "text": [
      "32\n",
      "[1, 2, 5, 8, 9]\n"
     ]
    }
   ],
   "source": [
    "# N = int(input())\n",
    "# info = [list(map(int,(input().split()))) for _ in range(N)]\n",
    "\n",
    "N = 5\n",
    "info = [list(map(int, i.split())) for i in \"\"\"1 1 1\n",
    "2 8 1\n",
    "8 2 1\n",
    "9 9 1\n",
    "5 5 32\"\"\".split('\\n')]\n",
    "\n",
    "x, y, z = [], [], []\n",
    "\n",
    "for l in info:\n",
    "    x.append(l[0])\n",
    "    y.append(l[1])\n",
    "    z.append(l[2])\n",
    "    \n",
    "x = sorted(x)\n",
    "y = sorted(y)\n",
    "z = sorted(z)\n",
    "\n",
    "cnt = 0\n",
    "answer = 0\n",
    "size = (x[-1] - x[0] + y[-1] - y[0]) * 2\n",
    "\n",
    "while not size <= cnt:\n",
    "    if z[-1] >= size - cnt:\n",
    "        answer += 1\n",
    "        break\n",
    "    else:\n",
    "        "
   ]
  },
  {
   "cell_type": "code",
   "execution_count": 3,
   "metadata": {},
   "outputs": [
    {
     "name": "stdout",
     "output_type": "stream",
     "text": [
      "1\n"
     ]
    }
   ],
   "source": [
    "a = 1 \n",
    "b = 2 \n",
    "c = a \n",
    "a = b \n",
    "print(c)"
   ]
  }
 ],
 "metadata": {
  "interpreter": {
   "hash": "916dbcbb3f70747c44a77c7bcd40155683ae19c65e1c03b4aa3499c5328201f1"
  },
  "kernelspec": {
   "display_name": "deep-data",
   "language": "python",
   "name": "python3"
  },
  "language_info": {
   "codemirror_mode": {
    "name": "ipython",
    "version": 3
   },
   "file_extension": ".py",
   "mimetype": "text/x-python",
   "name": "python",
   "nbconvert_exporter": "python",
   "pygments_lexer": "ipython3",
   "version": "3.8.10"
  },
  "orig_nbformat": 4
 },
 "nbformat": 4,
 "nbformat_minor": 2
}
