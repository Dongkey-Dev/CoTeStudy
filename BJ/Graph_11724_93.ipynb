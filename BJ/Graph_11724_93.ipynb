{
 "cells": [
  {
   "cell_type": "code",
   "execution_count": 2,
   "metadata": {},
   "outputs": [
    {
     "data": {
      "text/plain": [
       "'방향 없는 그래프가 주어졌을 때, 연결 요소 (Connected Component)의 개수를 구하는 프로그램을 작성하시오.'"
      ]
     },
     "execution_count": 2,
     "metadata": {},
     "output_type": "execute_result"
    }
   ],
   "source": [
    "\"\"\"방향 없는 그래프가 주어졌을 때, 연결 요소 (Connected Component)의 개수를 구하는 프로그램을 작성하시오.\"\"\""
   ]
  },
  {
   "cell_type": "code",
   "execution_count": 13,
   "metadata": {},
   "outputs": [
    {
     "name": "stdout",
     "output_type": "stream",
     "text": [
      "1\n"
     ]
    }
   ],
   "source": [
    "from collections import deque\n",
    "import sys\n",
    "\n",
    "class node():\n",
    "    def __init__(self, n):\n",
    "        self.n = n\n",
    "        self.connected = []\n",
    "        \n",
    "    def connect(self, n):\n",
    "        self.connected.append(n)\n",
    "    \n",
    "def add(a,b):\n",
    "    globals()[f'node_{a}'].connect(b)\n",
    "    globals()[f'node_{b}'].connect(a)\n",
    "            \n",
    "N,M = map(int, sys.stdin.readline().split())\n",
    "has_line = []\n",
    "\n",
    "for i in range(1, N+1):\n",
    "    globals()[f'node_{i}'] = node(i)\n",
    "\n",
    "for i in range(M):\n",
    "    a,b = map(int, sys.stdin.readline().split())\n",
    "    add(a,b)\n",
    "    has_line.extend([a,b])\n",
    "    \n",
    "has_line = set(has_line)\n",
    "answer = N - len(has_line)\n",
    "foot_print = []    \n",
    "deq = deque()\n",
    "\n",
    "def bfs(deq):\n",
    "    cur_num = deq.popleft()\n",
    "    cur = globals()[f'node_{cur_num}']\n",
    "    not_visited = [i for i in cur.connected if i not in foot_print]\n",
    "    for i in not_visited:\n",
    "        if i not in foot_print:\n",
    "            foot_print.append(i)\n",
    "            deq.append(i)\n",
    "            \n",
    "while True:\n",
    "    next_start_point = [i for i in has_line if i not in foot_print]\n",
    "    if not next_start_point:\n",
    "        break\n",
    "    deq = deque([next_start_point[0]])\n",
    "    while deq:\n",
    "        bfs(deq)\n",
    "    answer+=1\n",
    "    \n",
    "print(answer)\n",
    "\n",
    "for i in [i for i in globals().keys() if 'node' in i]:\n",
    "    del globals()[f'{i}']\n"
   ]
  },
  {
   "cell_type": "code",
   "execution_count": 6,
   "metadata": {},
   "outputs": [],
   "source": [
    "for i in [i for i in globals().keys() if 'node' in i]:\n",
    "    del globals()[f'{i}']"
   ]
  }
 ],
 "metadata": {
  "interpreter": {
   "hash": "916dbcbb3f70747c44a77c7bcd40155683ae19c65e1c03b4aa3499c5328201f1"
  },
  "kernelspec": {
   "display_name": "deep-data",
   "language": "python",
   "name": "python3"
  },
  "language_info": {
   "codemirror_mode": {
    "name": "ipython",
    "version": 3
   },
   "file_extension": ".py",
   "mimetype": "text/x-python",
   "name": "python",
   "nbconvert_exporter": "python",
   "pygments_lexer": "ipython3",
   "version": "3.8.10"
  },
  "orig_nbformat": 4
 },
 "nbformat": 4,
 "nbformat_minor": 2
}
