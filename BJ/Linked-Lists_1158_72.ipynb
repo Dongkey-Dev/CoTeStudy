{
 "cells": [
  {
   "cell_type": "code",
   "execution_count": 1,
   "metadata": {},
   "outputs": [
    {
     "data": {
      "text/plain": [
       "'요세푸스 문제는 다음과 같다.\\n\\n1번부터 N번까지 N명의 사람이 원을 이루면서 앉아있고, 양의 정수 K(≤ N)가 주어진다. 이제 순서대로 K번째 사람을 제거한다. 한 사람이 제거되면 남은 사람들로 이루어진 원을 따라 이 과정을 계속해 나간다. 이 과정은 N명의 사람이 모두 제거될 때까지 계속된다. 원에서 사람들이 제거되는 순서를 (N, K)-요세푸스 순열이라고 한다. 예를 들어 (7, 3)-요세푸스 순열은 <3, 6, 2, 7, 5, 1, 4>이다.\\n\\nN과 K가 주어지면 (N, K)-요세푸스 순열을 구하는 프로그램을 작성하시오.'"
      ]
     },
     "execution_count": 1,
     "metadata": {},
     "output_type": "execute_result"
    }
   ],
   "source": [
    "\"\"\"요세푸스 문제는 다음과 같다.\n",
    "\n",
    "1번부터 N번까지 N명의 사람이 원을 이루면서 앉아있고, 양의 정수 K(≤ N)가 주어진다. 이제 순서대로 K번째 사람을 제거한다. 한 사람이 제거되면 남은 사람들로 이루어진 원을 따라 이 과정을 계속해 나간다. 이 과정은 N명의 사람이 모두 제거될 때까지 계속된다. 원에서 사람들이 제거되는 순서를 (N, K)-요세푸스 순열이라고 한다. 예를 들어 (7, 3)-요세푸스 순열은 <3, 6, 2, 7, 5, 1, 4>이다.\n",
    "\n",
    "N과 K가 주어지면 (N, K)-요세푸스 순열을 구하는 프로그램을 작성하시오.\"\"\""
   ]
  },
  {
   "cell_type": "code",
   "execution_count": 38,
   "metadata": {},
   "outputs": [
    {
     "name": "stdout",
     "output_type": "stream",
     "text": [
      "<1>\n"
     ]
    }
   ],
   "source": [
    "class LL: \n",
    "    def __init__(self, value):\n",
    "        self.next = None\n",
    "        self.prev = None\n",
    "        self.value = value\n",
    "        \n",
    "    def pop(self):\n",
    "        self.prev.next = self.next\n",
    "        self.next.prev = self.prev\n",
    "        return self.value\n",
    "\n",
    "def sol(n,k):\n",
    "    answer = []\n",
    "    ll = [LL(i) for i in range(1,n+1)]\n",
    "    \n",
    "    for i in range(n):\n",
    "        if i==n-1:\n",
    "            ll[i].next = ll[0]\n",
    "        else:\n",
    "            ll[i].next = ll[i+1]\n",
    "        if i==0:\n",
    "            ll[0].prev = ll[-1]\n",
    "        else : \n",
    "            ll[i].prev = ll[i-1]\n",
    "          \n",
    "    cur = ll[0]\n",
    "    while len(answer)!= n:\n",
    "        for i in range(k-1):\n",
    "            cur = cur.next\n",
    "        cur_next = cur.next\n",
    "        answer.append(str(cur.pop()))\n",
    "        cur = cur_next\n",
    "    answer = ', '.join(answer)\n",
    "    return '<'+ answer+'>'\n",
    "    \n",
    "       \n",
    "if __name__==\"__main__\":\n",
    "    n = input()\n",
    "    n,k = map(int, n.split())\n",
    "    print(sol(n,k))"
   ]
  },
  {
   "cell_type": "code",
   "execution_count": 2,
   "metadata": {},
   "outputs": [
    {
     "data": {
      "text/plain": [
       "3"
      ]
     },
     "execution_count": 2,
     "metadata": {},
     "output_type": "execute_result"
    }
   ],
   "source": [
    "3%10"
   ]
  }
 ],
 "metadata": {
  "kernelspec": {
   "display_name": "deep-data",
   "language": "python",
   "name": "deep-data"
  },
  "language_info": {
   "codemirror_mode": {
    "name": "ipython",
    "version": 3
   },
   "file_extension": ".py",
   "mimetype": "text/x-python",
   "name": "python",
   "nbconvert_exporter": "python",
   "pygments_lexer": "ipython3",
   "version": "3.8.10"
  },
  "orig_nbformat": 4
 },
 "nbformat": 4,
 "nbformat_minor": 2
}
