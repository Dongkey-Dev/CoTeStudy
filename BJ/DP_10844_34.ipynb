{
 "cells": [
  {
   "cell_type": "code",
   "execution_count": 1,
   "metadata": {},
   "outputs": [
    {
     "data": {
      "text/plain": [
       "'\\n45656이란 수를 보자.\\n\\n이 수는 인접한 모든 자리의 차이가 1이다. 이런 수를 계단 수라고 한다.\\n\\nN이 주어질 때, 길이가 N인 계단 수가 총 몇 개 있는지 구해보자. 0으로 시작하는 수는 계단수가 아니다.\\n'"
      ]
     },
     "execution_count": 1,
     "metadata": {},
     "output_type": "execute_result"
    }
   ],
   "source": [
    "    \"\"\"\n",
    "45656이란 수를 보자.\n",
    "\n",
    "이 수는 인접한 모든 자리의 차이가 1이다. 이런 수를 계단 수라고 한다.\n",
    "\n",
    "N이 주어질 때, 길이가 N인 계단 수가 총 몇 개 있는지 구해보자. 0으로 시작하는 수는 계단수가 아니다.\n",
    "    \"\"\""
   ]
  },
  {
   "cell_type": "code",
   "execution_count": 9,
   "metadata": {},
   "outputs": [],
   "source": [
    "def sol(n):\n",
    "    dp = [[0 for _ in range(10)] for _ in range(n+1)]\n",
    "    dp[1],dp[1][0] = [1 for _ in range(10)], 0\n",
    "    \n",
    "    for i in range(2, n+1):\n",
    "        for j in range(10):\n",
    "            if j==0:\n",
    "                dp[i][j] = dp[i-1][j+1]\n",
    "            elif j==9:\n",
    "                dp[i][j] = dp[i-1][j-1]\n",
    "            else:\n",
    "                dp[i][j] = dp[i-1][j-1] + dp[i-1][j+1]\n",
    "    return sum(dp[n])"
   ]
  },
  {
   "cell_type": "code",
   "execution_count": 11,
   "metadata": {},
   "outputs": [
    {
     "data": {
      "text/plain": [
       "32"
      ]
     },
     "execution_count": 11,
     "metadata": {},
     "output_type": "execute_result"
    }
   ],
   "source": [
    "sol(3)"
   ]
  },
  {
   "cell_type": "code",
   "execution_count": null,
   "metadata": {},
   "outputs": [],
   "source": [
    "123\n",
    "~\n",
    "789 ... 7\n",
    "\n",
    "987\n",
    "~\n",
    "210 ... 8\n",
    "\n",
    "121\n",
    "~\n",
    "898 ... 8\n",
    "\n",
    "101\n",
    "~\n",
    "989 ... 9"
   ]
  }
 ],
 "metadata": {
  "kernelspec": {
   "display_name": "deep-data",
   "language": "python",
   "name": "deep-data"
  },
  "language_info": {
   "codemirror_mode": {
    "name": "ipython",
    "version": 3
   },
   "file_extension": ".py",
   "mimetype": "text/x-python",
   "name": "python",
   "nbconvert_exporter": "python",
   "pygments_lexer": "ipython3",
   "version": "3.8.10"
  },
  "orig_nbformat": 4
 },
 "nbformat": 4,
 "nbformat_minor": 2
}
