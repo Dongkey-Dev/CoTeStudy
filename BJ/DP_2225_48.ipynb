{
 "cells": [
  {
   "cell_type": "code",
   "execution_count": 1,
   "metadata": {},
   "outputs": [
    {
     "data": {
      "text/plain": [
       "'\\n0부터 N까지의 정수 K개를 더해서 그 합이 N이 되는 경우의 수를 구하는 프로그램을 작성하시오.\\n\\n덧셈의 순서가 바뀐 경우는 다른 경우로 센다(1+2와 2+1은 서로 다른 경우). 또한 한 개의 수를 여러 번 쓸 수도 있다.\\n'"
      ]
     },
     "execution_count": 1,
     "metadata": {},
     "output_type": "execute_result"
    }
   ],
   "source": [
    "    \"\"\"\n",
    "0부터 N까지의 정수 K개를 더해서 그 합이 N이 되는 경우의 수를 구하는 프로그램을 작성하시오.\n",
    "\n",
    "덧셈의 순서가 바뀐 경우는 다른 경우로 센다(1+2와 2+1은 서로 다른 경우). 또한 한 개의 수를 여러 번 쓸 수도 있다.\n",
    "    \"\"\""
   ]
  },
  {
   "cell_type": "code",
   "execution_count": null,
   "metadata": {},
   "outputs": [],
   "source": [
    "n, k = map(int,input().split())\n",
    "\n",
    "print(dp[n][k] % 1000000000)"
   ]
  },
  {
   "cell_type": "code",
   "execution_count": 42,
   "metadata": {},
   "outputs": [
    {
     "name": "stdout",
     "output_type": "stream",
     "text": [
      "0\n"
     ]
    }
   ],
   "source": [
    "def sol(_input):\n",
    "    n,k = _input\n",
    "    dp = [[0 if i ==0 else 1 for i in range(k+1)] if j==0 else [1 if i == 1 else 0 for i in range(k+1)] for j in range(n+1)]\n",
    "    for i in range(1, n+1):\n",
    "        for j in range(2, k+1):\n",
    "            dp[i][j] = dp[i-1][j] + dp[i][j-1]\n",
    "    return dp[n][k] % 1000000000\n",
    "\n",
    "if __name__==\"__main__\":\n",
    "    _input = [int(i) for i in input().split()]\n",
    "    print(sol(_input))"
   ]
  },
  {
   "cell_type": "code",
   "execution_count": 33,
   "metadata": {},
   "outputs": [
    {
     "data": {
      "text/plain": [
       "[[0, 1, 1, 1, 1],\n",
       " [0, 1, 2, 3, 4],\n",
       " [0, 1, 3, 6, 10],\n",
       " [0, 1, 4, 10, 20],\n",
       " [0, 1, 5, 15, 35],\n",
       " [0, 1, 6, 21, 56],\n",
       " [0, 1, 7, 28, 84]]"
      ]
     },
     "execution_count": 33,
     "metadata": {},
     "output_type": "execute_result"
    }
   ],
   "source": [
    "k = 6\n",
    "n = 4\n",
    "\n",
    "dp = [[0 if i ==0 else 1 for i in range(n+1)] if j==0 else [1 if i == 1 else 0 for i in range(n+1)] for j in range(k+1)]\n",
    "for i in range(1, k+1):\n",
    "    for j in range(2, n+1):\n",
    "        dp[i][j] = dp[i-1][j] + dp[i][j-1]\n",
    "dp"
   ]
  },
  {
   "cell_type": "code",
   "execution_count": 19,
   "metadata": {},
   "outputs": [
    {
     "data": {
      "text/plain": [
       "[[0, 1, 1, 1]]"
      ]
     },
     "execution_count": 19,
     "metadata": {},
     "output_type": "execute_result"
    }
   ],
   "source": [
    "[[0 if i ==0 else 1 for i in range(n+1)] if j==0 else [1 if i == 1 else 0 for i in range(n+1)] for j in range(k+1)]"
   ]
  },
  {
   "cell_type": "code",
   "execution_count": 38,
   "metadata": {},
   "outputs": [
    {
     "data": {
      "text/plain": [
       "1"
      ]
     },
     "execution_count": 38,
     "metadata": {},
     "output_type": "execute_result"
    }
   ],
   "source": [
    "a, b = [1,2]\n",
    "a"
   ]
  }
 ],
 "metadata": {
  "kernelspec": {
   "display_name": "deep-data",
   "language": "python",
   "name": "deep-data"
  },
  "language_info": {
   "codemirror_mode": {
    "name": "ipython",
    "version": 3
   },
   "file_extension": ".py",
   "mimetype": "text/x-python",
   "name": "python",
   "nbconvert_exporter": "python",
   "pygments_lexer": "ipython3",
   "version": "3.8.10"
  },
  "orig_nbformat": 4
 },
 "nbformat": 4,
 "nbformat_minor": 2
}
