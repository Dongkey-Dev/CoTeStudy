{
 "cells": [
  {
   "cell_type": "code",
   "execution_count": 1,
   "metadata": {},
   "outputs": [
    {
     "data": {
      "text/plain": [
       "'1742년, 독일의 아마추어 수학가 크리스티안 골드바흐는 레온하르트 오일러에게 다음과 같은 추측을 제안하는 편지를 보냈다.\\n\\n4보다 큰 모든 짝수는 두 홀수 소수의 합으로 나타낼 수 있다.\\n예를 들어 8은 3 + 5로 나타낼 수 있고, 3과 5는 모두 홀수인 소수이다. 또, 20 = 3 + 17 = 7 + 13, 42 = 5 + 37 = 11 + 31 = 13 + 29 = 19 + 23 이다.\\n\\n이 추측은 아직도 해결되지 않은 문제이다.\\n\\n백만 이하의 모든 짝수에 대해서, 이 추측을 검증하는 프로그램을 작성하시오.'"
      ]
     },
     "execution_count": 1,
     "metadata": {},
     "output_type": "execute_result"
    }
   ],
   "source": [
    "\"\"\"1742년, 독일의 아마추어 수학가 크리스티안 골드바흐는 레온하르트 오일러에게 다음과 같은 추측을 제안하는 편지를 보냈다.\n",
    "\n",
    "4보다 큰 모든 짝수는 두 홀수 소수의 합으로 나타낼 수 있다.\n",
    "예를 들어 8은 3 + 5로 나타낼 수 있고, 3과 5는 모두 홀수인 소수이다. 또, 20 = 3 + 17 = 7 + 13, 42 = 5 + 37 = 11 + 31 = 13 + 29 = 19 + 23 이다.\n",
    "\n",
    "이 추측은 아직도 해결되지 않은 문제이다.\n",
    "\n",
    "백만 이하의 모든 짝수에 대해서, 이 추측을 검증하는 프로그램을 작성하시오.\"\"\""
   ]
  },
  {
   "cell_type": "code",
   "execution_count": 31,
   "metadata": {},
   "outputs": [
    {
     "name": "stdout",
     "output_type": "stream",
     "text": [
      "10 = 3 + 7\n"
     ]
    }
   ],
   "source": [
    "n_list = [] \n",
    "while True:\n",
    "    n = int(input())\n",
    "    if n==0:\n",
    "        break \n",
    "    else:\n",
    "        n_list.append(n)\n",
    "    \n",
    "max_n = max(n_list)\n",
    "MAP = [True] * (max_n+1)\n",
    "MAP[0], MAP[1] = False, False\n",
    "for i in range(2, max_n+1):\n",
    "    if MAP[i]:\n",
    "        for j in range(2*i, max_n+1, i):\n",
    "            MAP[j]=False\n",
    "\n",
    "for n in n_list:\n",
    "    if n%2==1:\n",
    "        print(\"Goldbach's conjecture is wrong.\")\n",
    "        continue\n",
    "    \n",
    "    for i in range(3, n//2+1, 2):\n",
    "        if MAP[i] and MAP[n-i]:\n",
    "            print(n,\"=\", i, \"+\",n-i)\n",
    "            break"
   ]
  }
 ],
 "metadata": {
  "interpreter": {
   "hash": "916dbcbb3f70747c44a77c7bcd40155683ae19c65e1c03b4aa3499c5328201f1"
  },
  "kernelspec": {
   "display_name": "deep-data",
   "language": "python",
   "name": "python3"
  },
  "language_info": {
   "codemirror_mode": {
    "name": "ipython",
    "version": 3
   },
   "file_extension": ".py",
   "mimetype": "text/x-python",
   "name": "python",
   "nbconvert_exporter": "python",
   "pygments_lexer": "ipython3",
   "version": "3.8.10"
  },
  "orig_nbformat": 4
 },
 "nbformat": 4,
 "nbformat_minor": 2
}
