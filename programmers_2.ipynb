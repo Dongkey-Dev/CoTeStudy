{
 "cells": [
  {
   "cell_type": "code",
   "execution_count": 22,
   "metadata": {},
   "outputs": [
    {
     "name": "stdout",
     "output_type": "stream",
     "text": [
      "0.009622812271118164\n",
      "8190\n"
     ]
    }
   ],
   "source": [
    "import time\n",
    "\n",
    "l = {4,13}\n",
    "\n",
    "s = time.time()\n",
    "for _ in range(11):\n",
    "    tmp=set()\n",
    "    for i in l:\n",
    "        w4 = int(str(i)+'4')\n",
    "        w13 = int(str(i)+'13')\n",
    "        if w4 not in tmp:\n",
    "            tmp.add(w4)\n",
    "        if w13 not in tmp:\n",
    "            tmp.add(w13)    \n",
    "    l = l.union(tmp)\n",
    "ll = list(l)\n",
    "ll.sort()\n",
    "print(time.time()-s)\n",
    "print(len(ll))"
   ]
  },
  {
   "cell_type": "code",
   "execution_count": 23,
   "metadata": {},
   "outputs": [],
   "source": [
    "def solution(n):\n",
    "    tmp = []; # 큐\n",
    "    l = []; # 불길한 수 수열\n",
    "    cnt = 0;\n",
    "    tmp.append(4);\n",
    "    tmp.append(13);\n",
    "\n",
    "    while True:\n",
    "        if cnt > n:\n",
    "            break\n",
    "\n",
    "        num = tmp.pop(0);\n",
    "        tmp.append(int(str(num)+\"4\"))\n",
    "        tmp.append(int(str(num)+\"13\"))\n",
    "        l.append(num)\n",
    "        cnt += 1\n",
    "        tmp.sort()\n",
    "    l.sort();\n",
    "    return l[n-1];"
   ]
  },
  {
   "cell_type": "code",
   "execution_count": 27,
   "metadata": {},
   "outputs": [
    {
     "name": "stdout",
     "output_type": "stream",
     "text": [
      "0.11437726020812988\n",
      "13444134413444413\n"
     ]
    }
   ],
   "source": [
    "s = time.time()\n",
    "l = solution(5000)\n",
    "print(time.time()-s)\n",
    "print(l)"
   ]
  },
  {
   "cell_type": "code",
   "execution_count": 31,
   "metadata": {},
   "outputs": [
    {
     "ename": "UFuncTypeError",
     "evalue": "ufunc 'add' did not contain a loop with signature matching types (dtype('<U1'), dtype('<U1')) -> None",
     "output_type": "error",
     "traceback": [
      "\u001b[0;31m---------------------------------------------------------------------------\u001b[0m",
      "\u001b[0;31mUFuncTypeError\u001b[0m                            Traceback (most recent call last)",
      "\u001b[0;32m/tmp/ipykernel_1004/3464360809.py\u001b[0m in \u001b[0;36m<module>\u001b[0;34m\u001b[0m\n\u001b[1;32m      2\u001b[0m \u001b[0;34m\u001b[0m\u001b[0m\n\u001b[1;32m      3\u001b[0m \u001b[0mnl\u001b[0m \u001b[0;34m=\u001b[0m \u001b[0mnp\u001b[0m\u001b[0;34m.\u001b[0m\u001b[0marray\u001b[0m\u001b[0;34m(\u001b[0m\u001b[0;34m[\u001b[0m\u001b[0;34m'1'\u001b[0m\u001b[0;34m,\u001b[0m\u001b[0;34m'2'\u001b[0m\u001b[0;34m]\u001b[0m\u001b[0;34m)\u001b[0m\u001b[0;34m\u001b[0m\u001b[0;34m\u001b[0m\u001b[0m\n\u001b[0;32m----> 4\u001b[0;31m \u001b[0mnl\u001b[0m \u001b[0;34m+\u001b[0m \u001b[0mnp\u001b[0m\u001b[0;34m.\u001b[0m\u001b[0marray\u001b[0m\u001b[0;34m(\u001b[0m\u001b[0;34m[\u001b[0m\u001b[0;34m'2'\u001b[0m\u001b[0;34m]\u001b[0m\u001b[0;34m)\u001b[0m\u001b[0;34m\u001b[0m\u001b[0;34m\u001b[0m\u001b[0m\n\u001b[0m",
      "\u001b[0;31mUFuncTypeError\u001b[0m: ufunc 'add' did not contain a loop with signature matching types (dtype('<U1'), dtype('<U1')) -> None"
     ]
    }
   ],
   "source": [
    "import numpy as np \n",
    "\n",
    "nl = np.array(['1','2'])\n",
    "nl + np.array(['2'])"
   ]
  }
 ],
 "metadata": {
  "interpreter": {
   "hash": "916dbcbb3f70747c44a77c7bcd40155683ae19c65e1c03b4aa3499c5328201f1"
  },
  "kernelspec": {
   "display_name": "Python 3.8.10 64-bit",
   "language": "python",
   "name": "python3"
  },
  "language_info": {
   "codemirror_mode": {
    "name": "ipython",
    "version": 3
   },
   "file_extension": ".py",
   "mimetype": "text/x-python",
   "name": "python",
   "nbconvert_exporter": "python",
   "pygments_lexer": "ipython3",
   "version": "3.8.10"
  },
  "orig_nbformat": 4
 },
 "nbformat": 4,
 "nbformat_minor": 2
}
