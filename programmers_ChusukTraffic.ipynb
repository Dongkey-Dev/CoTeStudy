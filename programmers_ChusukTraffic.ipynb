{
 "cells": [
  {
   "cell_type": "code",
   "execution_count": 20,
   "metadata": {},
   "outputs": [
    {
     "name": "stdout",
     "output_type": "stream",
     "text": [
      "0 1\n"
     ]
    },
    {
     "data": {
      "text/plain": [
       "0"
      ]
     },
     "execution_count": 20,
     "metadata": {},
     "output_type": "execute_result"
    }
   ],
   "source": [
    "def date_to_second(D):\n",
    "    day, hour, S = D.split()\n",
    "    du = float(S.replace('s',''))\n",
    "    \n",
    "    day = day.replace('-','')\n",
    "    day = int(day) * 100000\n",
    "    h, m, s = hour.split(':')\n",
    "    h = int(h) * 3600\n",
    "    m = int(m) * 60\n",
    "    s = float(s)\n",
    "    second = day + h + m + s\n",
    "    end_second = second + du\n",
    "    return second, end_second\n",
    "\n",
    "def solution(lines):\n",
    "    answer = 0\n",
    "    history = []\n",
    "    start_list, end_list = [],[]\n",
    "    for l in [[a, b] for a,b in [date_to_second(l) for l in lines]]:\n",
    "        start_list.append(l[0])\n",
    "        end_list.append(l[1])\n",
    "        \n",
    "    for i in range(len(lines)-1):\n",
    "        for j in range(i+1, len(lines)):\n",
    "            print(i, j)\n",
    "            if abs(start_list[i] - end_list[j]) < 1 and {i,j} not in history:\n",
    "                answer+=1\n",
    "                history.append({i,j})\n",
    "        \n",
    "    return answer\n",
    "\n",
    "\n",
    "test =  [\n",
    "\"2016-09-15 01:00:04.002 2.0s\",\n",
    "\"2016-09-15 01:00:07.000 2s\"\n",
    "]\n",
    "\n",
    "solution(test)"
   ]
  },
  {
   "cell_type": "code",
   "execution_count": 13,
   "metadata": {},
   "outputs": [
    {
     "name": "stdout",
     "output_type": "stream",
     "text": [
      "2016091503607.0 2016091503609.0\n"
     ]
    }
   ],
   "source": [
    "start, end = date_to_second(\"2016-09-15 01:00:07.000 2.0s\")\n",
    "print(start, end)"
   ]
  }
 ],
 "metadata": {
  "interpreter": {
   "hash": "916dbcbb3f70747c44a77c7bcd40155683ae19c65e1c03b4aa3499c5328201f1"
  },
  "kernelspec": {
   "display_name": "Python 3.8.10 64-bit",
   "language": "python",
   "name": "python3"
  },
  "language_info": {
   "codemirror_mode": {
    "name": "ipython",
    "version": 3
   },
   "file_extension": ".py",
   "mimetype": "text/x-python",
   "name": "python",
   "nbconvert_exporter": "python",
   "pygments_lexer": "ipython3",
   "version": "3.8.10"
  },
  "orig_nbformat": 4
 },
 "nbformat": 4,
 "nbformat_minor": 2
}
