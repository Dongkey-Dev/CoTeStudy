{
 "cells": [
  {
   "cell_type": "code",
   "execution_count": 1,
   "metadata": {},
   "outputs": [
    {
     "data": {
      "text/plain": [
       "7"
      ]
     },
     "execution_count": 1,
     "metadata": {},
     "output_type": "execute_result"
    }
   ],
   "source": [
    "def date_to_second(D):\n",
    "    _, hour, S = D.split()\n",
    "    du = float(S.replace('s',''))\n",
    "\n",
    "    h, m, s = hour.split(':')\n",
    "    h = int(h) * 3600\n",
    "    m = int(m) * 60 \n",
    "    s = float(s)\n",
    "    end_second = h + m + s\n",
    "    start_second = end_second - du + 0.001\n",
    "    return start_second, end_second\n",
    "\n",
    "def solution(lines):\n",
    "    answer = 1\n",
    "    start_list, end_list = [],[]\n",
    "    for l in [[a, b] for a,b in [date_to_second(l) for l in lines]]:\n",
    "        start_list.append(l[0])\n",
    "        end_list.append(l[1])\n",
    "        \n",
    "    for i in range(len(lines)-1):\n",
    "        cnt=1\n",
    "        for j in range(i+1, len(lines)):\n",
    "            if end_list[i] > start_list[j] - 1:            \n",
    "                cnt+=1\n",
    "        answer = max(answer, cnt)\n",
    "    \n",
    "    return answer\n",
    "\n",
    "test =[\n",
    "\"2016-09-15 20:59:57.421 0.351s\",\n",
    "\"2016-09-15 20:59:58.233 1.181s\",\n",
    "\"2016-09-15 20:59:58.299 0.8s\",\n",
    "\"2016-09-15 20:59:58.688 1.041s\",\n",
    "\"2016-09-15 20:59:59.591 1.412s\",\n",
    "\"2016-09-15 21:00:00.464 1.466s\",\n",
    "\"2016-09-15 21:00:00.741 1.581s\",\n",
    "\"2016-09-15 21:00:00.748 2.31s\",\n",
    "\"2016-09-15 21:00:00.966 0.381s\",\n",
    "\"2016-09-15 21:00:02.066 2.62s\"\n",
    "]\n",
    "\n",
    "solution(test) "
   ]
  },
  {
   "cell_type": "code",
   "execution_count": 9,
   "metadata": {},
   "outputs": [
    {
     "data": {
      "text/plain": [
       "4.001"
      ]
     },
     "execution_count": 9,
     "metadata": {},
     "output_type": "execute_result"
    }
   ],
   "source": []
  },
  {
   "cell_type": "code",
   "execution_count": 21,
   "metadata": {},
   "outputs": [
    {
     "data": {
      "text/plain": [
       "array([ 10000,  10001,  10002, ..., 999997, 999998, 999999])"
      ]
     },
     "execution_count": 21,
     "metadata": {},
     "output_type": "execute_result"
    }
   ],
   "source": [
    "import numpy as np\n",
    "\n",
    "1000 * 1000\n",
    "\n",
    "list_a = [i for i in range(1000000)]\n",
    "list_b = [i for i in range(10000)]\n",
    "# [i for i in list_a if i in list_b]\n",
    "np.array(list_a)[~np.in1d(list_a, list_b)]"
   ]
  },
  {
   "cell_type": "code",
   "execution_count": 13,
   "metadata": {},
   "outputs": [
    {
     "name": "stdout",
     "output_type": "stream",
     "text": [
      "2016091503607.0 2016091503609.0\n"
     ]
    }
   ],
   "source": [
    "start, end = date_to_second(\"2016-09-15 01:00:07.000 2.0s\")\n",
    "print(start, end)"
   ]
  }
 ],
 "metadata": {
  "interpreter": {
   "hash": "916dbcbb3f70747c44a77c7bcd40155683ae19c65e1c03b4aa3499c5328201f1"
  },
  "kernelspec": {
   "display_name": "Python 3.8.10 64-bit",
   "language": "python",
   "name": "python3"
  },
  "language_info": {
   "codemirror_mode": {
    "name": "ipython",
    "version": 3
   },
   "file_extension": ".py",
   "mimetype": "text/x-python",
   "name": "python",
   "nbconvert_exporter": "python",
   "pygments_lexer": "ipython3",
   "version": "3.8.10"
  },
  "orig_nbformat": 4
 },
 "nbformat": 4,
 "nbformat_minor": 2
}
