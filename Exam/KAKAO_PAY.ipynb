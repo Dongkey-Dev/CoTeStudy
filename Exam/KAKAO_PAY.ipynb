{
 "cells": [
  {
   "cell_type": "code",
   "execution_count": null,
   "metadata": {},
   "outputs": [],
   "source": [
    "\"1번\"\n",
    "def solution(n, text, second):\n",
    "    _text = text.replace(' ', '_')\n",
    "    bar_text = '_' * n + _text\n",
    "\n",
    "    while len(bar_text) < 1031:\n",
    "        bar_text += bar_text\n",
    "\n",
    "    answer = bar_text[second:second + n]\n",
    "    \n",
    "    return answer"
   ]
  },
  {
   "cell_type": "code",
   "execution_count": null,
   "metadata": {},
   "outputs": [],
   "source": [
    "\"2번\"\n",
    "\n",
    "def solution(bricks, n, k):\n",
    "    bricks = [n-i for i in bricks]\n",
    "    print(bricks)\n",
    "    dp = [[50 for _ in range(k-1)] for _ in range(len(bricks)-1)]\n",
    "    dp[1][0] = bricks[1]\n",
    "    dp[2][0] = bricks[2]\n",
    "    \n",
    "    for i in range(3, len(bricks)-1):\n",
    "        min_dp = dp[-1].copy()\n",
    "        for dd in dp[:i-2]:\n",
    "            if sum(dd) < sum(min_dp):\n",
    "                min_dp = dd.copy()\n",
    "        dp[i] = min_dp\n",
    "        if max(dp[i]) > bricks[i]:\n",
    "            dp[i][dp[i].index(max(dp[i]))] = bricks[i]\n",
    "\n",
    "    print(dp)\n",
    "\n",
    "    answer = min([sum(i) for i in dp])\n",
    "    return answer\n",
    "\n",
    "print(solution([1, 2, 5, 3, 1, 0, 2, 3], 6, 3))"
   ]
  },
  {
   "cell_type": "code",
   "execution_count": null,
   "metadata": {},
   "outputs": [],
   "source": [
    "\"3번\"\n",
    "def solution(replies, n, k):\n",
    "    answer = [1]*len(replies)\n",
    "\n",
    "    for idx, rep in enumerate(replies):\n",
    "        for check_len in range(n, len(rep)//k+1):\n",
    "            for i in range(len(rep)-check_len):\n",
    "                check_word = rep[i:i+check_len]\n",
    "                test_word = rep.replace(check_word, \"G\")\n",
    "                if \"G\"*k in test_word:\n",
    "                    answer[idx] = 0\n",
    "                    break\n",
    "\n",
    "    return answer"
   ]
  }
 ],
 "metadata": {
  "interpreter": {
   "hash": "916dbcbb3f70747c44a77c7bcd40155683ae19c65e1c03b4aa3499c5328201f1"
  },
  "kernelspec": {
   "display_name": "Python 3.8.10 64-bit",
   "language": "python",
   "name": "python3"
  },
  "language_info": {
   "codemirror_mode": {
    "name": "ipython",
    "version": 3
   },
   "file_extension": ".py",
   "mimetype": "text/x-python",
   "name": "python",
   "nbconvert_exporter": "python",
   "pygments_lexer": "ipython3",
   "version": "3.8.10"
  },
  "orig_nbformat": 4
 },
 "nbformat": 4,
 "nbformat_minor": 2
}
