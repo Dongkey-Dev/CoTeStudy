{
 "cells": [
  {
   "cell_type": "code",
   "execution_count": 8,
   "metadata": {},
   "outputs": [
    {
     "data": {
      "text/plain": [
       "3"
      ]
     },
     "execution_count": 8,
     "metadata": {},
     "output_type": "execute_result"
    }
   ],
   "source": [
    "\"1번\"\n",
    "\n",
    "def solution(cards1, cards2):\n",
    "    answer = 0\n",
    "\n",
    "    for i in range(len(cards1)):\n",
    "        check_dup = cards1[i].copy()\n",
    "        check_dup.extend(cards2[i])\n",
    "        if len(set(check_dup)) != 10:\n",
    "            answer+=1\n",
    "            continue\n",
    "        if i != 0:\n",
    "            check_dup_before_round_1 = [card for card in cards1[i] if card in cards1[i-1]]\n",
    "            check_dup_before_round_2 = [card for card in cards2[i] if card in cards2[i-1]]\n",
    "            if len(check_dup_before_round_1) >= 2 or len(check_dup_before_round_2) >= 2:\n",
    "                answer +=1\n",
    "    return answer\n",
    "\n",
    "solution([[13, 21, 24, 29, 50], [1, 12, 20, 21, 32], [16, 26, 34, 46, 52], [9, 11, 16, 16, 21], [3, 8, 10, 16, 20]],\\\n",
    "   [[5, 10, 15, 41, 49], [6, 14, 15, 19, 46], [5, 42, 43, 51, 52], [5, 6, 11, 13, 45], [5, 9, 11, 13, 45]])"
   ]
  },
  {
   "cell_type": "code",
   "execution_count": 16,
   "metadata": {},
   "outputs": [
    {
     "data": {
      "text/plain": [
       "[40, 5, 45]"
      ]
     },
     "execution_count": 16,
     "metadata": {},
     "output_type": "execute_result"
    }
   ],
   "source": [
    "\"2번\"\n",
    "\n",
    "from copy import deepcopy\n",
    "\n",
    "def solution(balance, transaction, abnormal):\n",
    "    answer = []\n",
    "    \n",
    "    for user_num in range(1, len(balance)+1):\n",
    "        globals()[f'user_{user_num}'] = [{\"from\":user_num, \"amount\":balance[user_num-1]}]\n",
    "        \n",
    "    for tr in transaction:\n",
    "        fr = tr[0]\n",
    "        to = tr[1]\n",
    "        am = tr[2]\n",
    "        \n",
    "        while am:\n",
    "            cur = globals()[f'user_{fr}'].pop()\n",
    "            \n",
    "            if cur['amount'] > am:\n",
    "                change = deepcopy(cur)\n",
    "                change['amount'] -= am\n",
    "                cur['amount'] = am\n",
    "                globals()[f'user_{to}'].append(cur)\n",
    "                globals()[f'user_{fr}'].append(change)\n",
    "                am = 0\n",
    "            else:\n",
    "                globals()[f'user_{to}'].append(cur)\n",
    "                am -= cur['amount']\n",
    "                \n",
    "    for num in range(1, len(balance)+1):\n",
    "        globals()[f'user_{num}'] = [wallet['amount'] for wallet in globals()[f'user_{num}'] if wallet['from'] not in abnormal]\n",
    "        answer.append(sum(globals()[f'user_{num}']))\n",
    "        \n",
    "    return answer\n",
    "\n",
    "# solution([30, 30, 30, 30], [[1, 2, 10], [2, 3, 20], [3, 4, 5], [3, 4, 30]], [2,3])\n",
    "solution([40, 30, 50], [[1, 3, 20], [2, 1, 10], [3, 1, 45], [2, 3, 10], [1, 3, 35], [2, 1, 5], [3, 1, 10], [3, 2, 5]], [2])"
   ]
  },
  {
   "cell_type": "code",
   "execution_count": 72,
   "metadata": {},
   "outputs": [
    {
     "data": {
      "text/plain": [
       "[6]"
      ]
     },
     "execution_count": 72,
     "metadata": {},
     "output_type": "execute_result"
    }
   ],
   "source": [
    "\"3번\"\n",
    "\n",
    "from collections import deque\n",
    "\n",
    "def rebuild_maze_handle_easy(maze, pos_to_go):\n",
    "    maze_extended = [[True for _ in range(len(maze[0])+2) ] for _ in range(len(maze)+2)]\n",
    "    for y in range(len(maze)):\n",
    "        for x in range(len(maze[0])):\n",
    "            if maze[y][x] in pos_to_go:\n",
    "                maze_extended[y+1][x+1] = False\n",
    "            else:\n",
    "                maze_extended[y+1][x+1] = True\n",
    "    return maze_extended\n",
    "    \n",
    "def get_able_pos(maze, cur, deq, cnt):\n",
    "    pos_able_to_go = []\n",
    "    if not maze[cur[0]-1][cur[1]] and (cur[0]-1, cur[1]) not in deq:\n",
    "        pos_able_to_go.append([[cur[0]-1, cur[1]], cnt+1])\n",
    "        \n",
    "    if not maze[cur[0]][cur[1]-1] and (cur[0], cur[1]-1) not in deq:\n",
    "        pos_able_to_go.append([[cur[0], cur[1]-1], cnt+1])\n",
    "        \n",
    "    if not maze[cur[0]+1][cur[1]] and (cur[0]+1, cur[1]) not in deq:\n",
    "        pos_able_to_go.append([[cur[0]+1, cur[1]], cnt+1])\n",
    "        \n",
    "    if not maze[cur[0]][cur[1]+1] and (cur[0], cur[1]+1) not in deq:\n",
    "        pos_able_to_go.append([[cur[0], cur[1]+1], cnt+1])      \n",
    "    return pos_able_to_go\n",
    "    \n",
    "def get_distance_minimum_with_bfs(maze, start_point, finish_point):\n",
    "    deq = deque([[start_point, 1]])\n",
    "    while deq:\n",
    "        cur = deq.popleft()\n",
    "        distance = cur[1]\n",
    "        y = cur[0][0]\n",
    "        x = cur[0][1]\n",
    "        if not maze[y][x]:\n",
    "            maze[y][x] = distance\n",
    "            deq.extend(get_able_pos(maze, (y,x), deq, distance))\n",
    "        if maze[finish_point[0]][finish_point[1]]:\n",
    "            return distance\n",
    "    return -1 \n",
    "\n",
    "def solution(maze, queries):\n",
    "    answer = []\n",
    "    init_maze = maze.copy()\n",
    "    for query in queries:\n",
    "        query = query.split()\n",
    "        start_point = tuple(map(int, [query[:2][0], query[:2][1]]))\n",
    "        finish_point = tuple(map(int, [query[2:4][0], query[2:4][1]]))\n",
    "        pos_to_go = list(query[-1])\n",
    "        maze = rebuild_maze_handle_easy(init_maze, pos_to_go)\n",
    "        answer.append(get_distance_minimum_with_bfs(maze, start_point, finish_point))\n",
    "    return answer\n",
    "\n",
    "solution([\"AAAAA\", \"AABBB\", \"CAEFG\", \"AAEFF\"], [\"1 1 3 4 AEF\"])\n",
    "# solution([\"AAA\", \"ABB\", \"ABA\"], [\"1 1 1 3 A\", \"1 3 3 1 A\", \"1 1 3 3 A\", \"1 1 3 3 AB\"])"
   ]
  },
  {
   "cell_type": "code",
   "execution_count": 70,
   "metadata": {},
   "outputs": [
    {
     "data": {
      "text/plain": [
       "80"
      ]
     },
     "execution_count": 70,
     "metadata": {},
     "output_type": "execute_result"
    }
   ],
   "source": [
    "\"4번\"\n",
    "\n",
    "def check_benefit(remain_player, power, benefit_point):\n",
    "    if len(remain_player) < benefit_point:\n",
    "        return False, 1, False\n",
    "    \n",
    "    for i, v in enumerate(remain_player[:benefit_point]):\n",
    "        if power >= v:\n",
    "            power += i+1\n",
    "        else :\n",
    "            return False, i, False\n",
    "    return power, i+1, True\n",
    "\n",
    "def get_benefit_point(k):\n",
    "    return 1 + (k-1)*2\n",
    "\n",
    "def solution(players, power, k):\n",
    "    answer = 0\n",
    "    benefit_point = get_benefit_point(k)\n",
    "    is_first_victory = True\n",
    "    victory_point = 1\n",
    "    i = 0\n",
    "    while i < len(players):\n",
    "        if power >= players[i] and is_first_victory:\n",
    "            check_power, check_victory_point, check_victory = check_benefit(players[i:], power, benefit_point)\n",
    "            if check_victory:\n",
    "                power = check_power\n",
    "                victory_point = check_victory_point+1\n",
    "                i += check_victory_point-1\n",
    "                is_first_victory = False\n",
    "            else:\n",
    "                power += (k * check_victory_point)\n",
    "                i += check_victory_point-1\n",
    "                \n",
    "        elif power >= players[i] and not is_first_victory:\n",
    "            power += victory_point\n",
    "            victory_point+=1      \n",
    "             \n",
    "        else:\n",
    "            power += k\n",
    "            is_first_victory = True\n",
    "            victory_point = 1\n",
    "        i += 1\n",
    "        \n",
    "    answer = power    \n",
    "    return answer\n",
    "\n",
    "# solution([10, 11, 15, 14, 16, 18, 19, 20], 10, 2)\n",
    "# solution([1, 2, 4, 7], 1, 2)\n",
    "solution([1, 2, 1, 2, 1, 2, 1, 2, 1, 2, 1, 2], 2, 5)\n"
   ]
  },
  {
   "cell_type": "code",
   "execution_count": 4,
   "metadata": {},
   "outputs": [
    {
     "name": "stdout",
     "output_type": "stream",
     "text": [
      "0.5261356830596924\n",
      "0.01360321044921875\n"
     ]
    }
   ],
   "source": [
    "import numpy as np \n",
    "import time \n",
    "\n",
    "test_1 = [i for i in range(10000000)]\n",
    "test_2 = np.array([i for i in range(10000000)])\n",
    "\n",
    "s1 = time.time()\n",
    "[i-10 for i in test_1]\n",
    "print(time.time()- s1)\n",
    "s2 = time.time()\n",
    "test_2 - 10\n",
    "print(time.time()- s2)"
   ]
  }
 ],
 "metadata": {
  "interpreter": {
   "hash": "916dbcbb3f70747c44a77c7bcd40155683ae19c65e1c03b4aa3499c5328201f1"
  },
  "kernelspec": {
   "display_name": "Python 3.8.10 64-bit",
   "language": "python",
   "name": "python3"
  },
  "language_info": {
   "codemirror_mode": {
    "name": "ipython",
    "version": 3
   },
   "file_extension": ".py",
   "mimetype": "text/x-python",
   "name": "python",
   "nbconvert_exporter": "python",
   "pygments_lexer": "ipython3",
   "version": "3.8.10"
  },
  "orig_nbformat": 4
 },
 "nbformat": 4,
 "nbformat_minor": 2
}
