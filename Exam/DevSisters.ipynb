{
 "cells": [
  {
   "cell_type": "code",
   "execution_count": 1,
   "metadata": {},
   "outputs": [],
   "source": [
    "def solution(score):\n",
    "    rainbow = 100\n",
    "    star = 50\n",
    "    yellow = 5\n",
    "    normal = 1\n",
    "    answer = 0\n",
    "    \n",
    "    jelly_list = [rainbow, star, yellow, normal]\n",
    "    \n",
    "    idx = 0\n",
    "    while score:\n",
    "        if jelly_list[idx] <= score:\n",
    "            score -= jelly_list[idx]\n",
    "            answer += 1\n",
    "        else :\n",
    "            idx += 1\n",
    "    \n",
    "    return answer"
   ]
  },
  {
   "cell_type": "code",
   "execution_count": 20,
   "metadata": {},
   "outputs": [],
   "source": [
    "from collections import deque\n",
    "\n",
    "def solution(capacity, routes):\n",
    "    navi_deque = []\n",
    "    \n",
    "    for route in routes:\n",
    "        navi_deque.append({\"pos\": route[1], \"value\":route[0], \"act\": \"pick\"})\n",
    "        navi_deque.append({\"pos\": route[2], \"value\":route[0], \"act\": \"down\"})\n",
    "        \n",
    "    navi_deque = deque(sorted(navi_deque, key = lambda k: (k['pos'], k['act'])))\n",
    "    \n",
    "    print(navi_deque)\n",
    "    \n",
    "    in_hand = 0\n",
    "    \n",
    "    while navi_deque:\n",
    "        cur = navi_deque.popleft()\n",
    "        if cur['act'] == \"pick\":\n",
    "            in_hand += cur['value']\n",
    "            if in_hand > capacity:\n",
    "                return 'false'\n",
    "        else :\n",
    "            in_hand -= cur['value']\n",
    "    return 'true' "
   ]
  },
  {
   "cell_type": "code",
   "execution_count": 41,
   "metadata": {},
   "outputs": [],
   "source": [
    "from itertools import combinations as comb\n",
    "\n",
    "def check_answer(letters):\n",
    "    table = {}\n",
    "    for l in letters:\n",
    "        if l not in table:\n",
    "            table[l] = 1\n",
    "        else:\n",
    "            table[l] += 1\n",
    "    max_value = max(table.values())\n",
    "    if max_value > sum(table.values()) - max_value:\n",
    "        return True\n",
    "    return False\n",
    "    \n",
    "def solution(pouches):\n",
    "    max_answer = len(pouches)\n",
    "    \n",
    "    while max_answer:\n",
    "        comb_list = list(comb(pouches, max_answer))\n",
    "        for combination in comb_list:\n",
    "            if check_answer(''.join(combination)):\n",
    "                return max_answer\n",
    "        max_answer -= 1\n",
    "    return 0"
   ]
  },
  {
   "cell_type": "code",
   "execution_count": 63,
   "metadata": {},
   "outputs": [],
   "source": [
    "from itertools import combinations as comb\n",
    "\n",
    "def check_answer(table, letters):\n",
    "    for l in letters:\n",
    "        table[l] -= 1\n",
    "    max_value = max(table.values())\n",
    "    if max_value > sum(table.values()) - max_value:\n",
    "        return True\n",
    "    return False\n",
    "\n",
    "def get_max_table(letters):\n",
    "    table = {}\n",
    "    for l in letters:\n",
    "        if l not in table:\n",
    "            table[l] = 1\n",
    "        else:\n",
    "            table[l] += 1\n",
    "    return table\n",
    "    \n",
    "def solution(pouches):\n",
    "    max_answer = len(pouches)\n",
    "    max_table = get_max_table(''.join(pouches))\n",
    "    exclude_pouch_num = 0\n",
    "    while exclude_pouch_num != max_answer:\n",
    "        comb_list = list(comb(pouches, exclude_pouch_num))\n",
    "        for combination in comb_list:\n",
    "            letters = ''.join(combination)\n",
    "            if check_answer(max_table, letters):\n",
    "                return max_answer - exclude_pouch_num\n",
    "        exclude_pouch_num += 1\n",
    "    return 0"
   ]
  },
  {
   "cell_type": "code",
   "execution_count": 67,
   "metadata": {},
   "outputs": [
    {
     "name": "stdout",
     "output_type": "stream",
     "text": [
      "1\n"
     ]
    }
   ],
   "source": [
    "for i in list(comb([1,2,3], 1))[0]:\n",
    "    print(i)"
   ]
  },
  {
   "cell_type": "code",
   "execution_count": 64,
   "metadata": {},
   "outputs": [
    {
     "data": {
      "text/plain": [
       "3"
      ]
     },
     "execution_count": 64,
     "metadata": {},
     "output_type": "execute_result"
    }
   ],
   "source": [
    "solution([\"cab\",\"adaaa\",\"e\"])"
   ]
  },
  {
   "cell_type": "code",
   "execution_count": 59,
   "metadata": {},
   "outputs": [
    {
     "data": {
      "text/plain": [
       "[()]"
      ]
     },
     "execution_count": 59,
     "metadata": {},
     "output_type": "execute_result"
    }
   ],
   "source": [
    "list(comb([\"cab\",\"adaaa\",\"e\"], 0))"
   ]
  },
  {
   "cell_type": "code",
   "execution_count": 57,
   "metadata": {},
   "outputs": [],
   "source": [
    "letters = \"daedabdccc\"\n",
    "\n",
    "table = {}\n",
    "for l in letters:\n",
    "    if l not in table:\n",
    "        table[l] = 1\n",
    "    else:\n",
    "        table[l] += 1\n",
    "max_value = max(table.values())"
   ]
  },
  {
   "cell_type": "code",
   "execution_count": 58,
   "metadata": {},
   "outputs": [
    {
     "name": "stdout",
     "output_type": "stream",
     "text": [
      "3\n"
     ]
    },
    {
     "data": {
      "text/plain": [
       "7"
      ]
     },
     "execution_count": 58,
     "metadata": {},
     "output_type": "execute_result"
    }
   ],
   "source": [
    "dict_sorted = sorted(table.items(), key = lambda k: k[1], reverse=True)\n",
    "print(dict_sorted[0][1])\n",
    "sum([v[1] for v in dict_sorted[1:]])"
   ]
  }
 ],
 "metadata": {
  "interpreter": {
   "hash": "916dbcbb3f70747c44a77c7bcd40155683ae19c65e1c03b4aa3499c5328201f1"
  },
  "kernelspec": {
   "display_name": "Python 3.8.10 64-bit",
   "language": "python",
   "name": "python3"
  },
  "language_info": {
   "codemirror_mode": {
    "name": "ipython",
    "version": 3
   },
   "file_extension": ".py",
   "mimetype": "text/x-python",
   "name": "python",
   "nbconvert_exporter": "python",
   "pygments_lexer": "ipython3",
   "version": "3.8.10"
  },
  "orig_nbformat": 4
 },
 "nbformat": 4,
 "nbformat_minor": 2
}
