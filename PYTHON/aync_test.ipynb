{
 "cells": [
  {
   "cell_type": "code",
   "execution_count": null,
   "metadata": {},
   "outputs": [],
   "source": []
  },
  {
   "cell_type": "code",
   "execution_count": 2,
   "metadata": {},
   "outputs": [],
   "source": [
    "from a_test_m import find_users_sync, find_users_async, use_async\n",
    "import time\n",
    "import asyncio\n",
    "\n",
    "async def main():\n",
    "    start = time.time()\n",
    "    result = await asyncio.wait([\n",
    "        use_async(i) for i in range(1,4)\n",
    "    ])\n",
    "    print(\"소요시간 : \", time.time() - start)\n",
    "    return result"
   ]
  },
  {
   "cell_type": "code",
   "execution_count": 3,
   "metadata": {},
   "outputs": [],
   "source": [
    "result = main()"
   ]
  },
  {
   "cell_type": "code",
   "execution_count": 6,
   "metadata": {},
   "outputs": [
    {
     "data": {
      "text/plain": [
       "<coroutine object main at 0x1103d71c0>"
      ]
     },
     "execution_count": 6,
     "metadata": {},
     "output_type": "execute_result"
    }
   ],
   "source": [
    "result"
   ]
  },
  {
   "cell_type": "code",
   "execution_count": 8,
   "metadata": {},
   "outputs": [
    {
     "data": {
      "text/plain": [
       "<coroutine object rq_async_main at 0x10553f0c0>"
      ]
     },
     "execution_count": 8,
     "metadata": {},
     "output_type": "execute_result"
    }
   ],
   "source": [
    "import requests as rq\n",
    "import asyncio\n",
    "import time\n",
    "\n",
    "def sync_naver_rq():\n",
    "    r = rq.get('http://www.google.com')\n",
    "    return r\n",
    "\n",
    "def rq_main():\n",
    "    start = time.time()\n",
    "    [sync_naver_rq() for _ in range(1,5)]\n",
    "    print(time.time() - start)\n",
    "\n",
    "async def rq_async_main():\n",
    "    loop = asyncio.get_evnet_loop()\n",
    "    start = time.time()\n",
    "    result = []\n",
    "    for i in range(1,5):\n",
    "        globals()[f\"future_{i}\"] = loop.run_in_executor(None, rq.get, 'http://www.google.com')\n",
    "    \n",
    "    for i in range(1,5):\n",
    "        globals()[f\"response_{i}\"] = await globals()[f\"future_{i}\"]\n",
    "        result.append(globals()[f\"response_{i}\"])\n",
    "    result.append(time.time() - start)\n",
    "    return result\n",
    "    \n",
    "# rq_main()\n",
    "rq_async_main()"
   ]
  },
  {
   "cell_type": "code",
   "execution_count": 7,
   "metadata": {},
   "outputs": [
    {
     "data": {
      "text/plain": [
       "<coroutine object rq_async_main at 0x1055239c0>"
      ]
     },
     "execution_count": 7,
     "metadata": {},
     "output_type": "execute_result"
    }
   ],
   "source": [
    "res"
   ]
  },
  {
   "cell_type": "code",
   "execution_count": 4,
   "metadata": {},
   "outputs": [
    {
     "data": {
      "text/plain": [
       "[1, 2, 3, 4, 1]"
      ]
     },
     "execution_count": 4,
     "metadata": {},
     "output_type": "execute_result"
    }
   ],
   "source": [
    "def add_1(b):\n",
    "    b.append(1)\n",
    "\n",
    "a = [1,2,3,4]\n",
    "add_1(a)\n",
    "a\n",
    "\n"
   ]
  },
  {
   "cell_type": "code",
   "execution_count": null,
   "metadata": {},
   "outputs": [],
   "source": []
  }
 ],
 "metadata": {
  "kernelspec": {
   "display_name": "Python 3.8.13 ('tf')",
   "language": "python",
   "name": "python3"
  },
  "language_info": {
   "codemirror_mode": {
    "name": "ipython",
    "version": 3
   },
   "file_extension": ".py",
   "mimetype": "text/x-python",
   "name": "python",
   "nbconvert_exporter": "python",
   "pygments_lexer": "ipython3",
   "version": "3.8.13"
  },
  "orig_nbformat": 4,
  "vscode": {
   "interpreter": {
    "hash": "ea3fbd3fd6142b6835623a06cd4d5668ce476cc599180c8992b321c14dd35891"
   }
  }
 },
 "nbformat": 4,
 "nbformat_minor": 2
}
