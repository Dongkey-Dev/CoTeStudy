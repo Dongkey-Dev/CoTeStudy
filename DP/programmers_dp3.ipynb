{
 "cells": [
  {
   "cell_type": "code",
   "execution_count": null,
   "metadata": {},
   "outputs": [],
   "source": [
    "    \"\"\"\n",
    "    문제 : https://programmers.co.kr/learn/courses/30/lessons/42898\n",
    "    \n",
    "    문제 설명\n",
    "계속되는 폭우로 일부 지역이 물에 잠겼습니다. 물에 잠기지 않은 지역을 통해 학교를 가려고 합니다. 집에서 학교까지 가는 길은 m x n 크기의 격자모양으로 나타낼 수 있습니다.\n",
    "\n",
    "아래 그림은 m = 4, n = 3 인 경우입니다.\n",
    "\n",
    "image0.png\n",
    "\n",
    "가장 왼쪽 위, 즉 집이 있는 곳의 좌표는 (1, 1)로 나타내고 가장 오른쪽 아래, 즉 학교가 있는 곳의 좌표는 (m, n)으로 나타냅니다.\n",
    "\n",
    "격자의 크기 m, n과 물이 잠긴 지역의 좌표를 담은 2차원 배열 puddles이 매개변수로 주어집니다. 오른쪽과 아래쪽으로만 움직여 집에서 학교까지 갈 수 있는 최단경로의 개수를 1,000,000,007로 나눈 나머지를 return 하도록 solution 함수를 작성해주세요.\n",
    "\n",
    "제한사항\n",
    "격자의 크기 m, n은 1 이상 100 이하인 자연수입니다.\n",
    "m과 n이 모두 1인 경우는 입력으로 주어지지 않습니다.\n",
    "물에 잠긴 지역은 0개 이상 10개 이하입니다.\n",
    "집과 학교가 물에 잠긴 경우는 입력으로 주어지지 않습니다.\n",
    "입출력 예\n",
    "m\tn\tpuddles\treturn\n",
    "4\t3\t[[2, 2]]\t4\n",
    "    \"\"\""
   ]
  },
  {
   "cell_type": "code",
   "execution_count": 86,
   "metadata": {},
   "outputs": [],
   "source": [
    "def solution(m, n, puddles):\n",
    "    dp = [[0 for _ in range(m+1)] for _ in range(n+1)]\n",
    "    dp[1][1] = 1\n",
    "\n",
    "    for i in range(1, n+1):\n",
    "        for j in range(1, m+1):\n",
    "            if i==j==1:\n",
    "                continue\n",
    "            elif [j,i] in puddles:\n",
    "                continue\n",
    "            else : \n",
    "                dp[i][j] = dp[i-1][j] + dp[i][j-1]\n",
    "    return dp"
   ]
  },
  {
   "cell_type": "code",
   "execution_count": 87,
   "metadata": {},
   "outputs": [
    {
     "data": {
      "text/plain": [
       "[[0, 0, 0, 0, 0], [0, 1, 1, 1, 1], [0, 1, 0, 1, 2], [0, 1, 1, 2, 4]]"
      ]
     },
     "execution_count": 87,
     "metadata": {},
     "output_type": "execute_result"
    }
   ],
   "source": [
    "solution(4,3,[[2,2]])"
   ]
  }
 ],
 "metadata": {
  "interpreter": {
   "hash": "31f2aee4e71d21fbe5cf8b01ff0e069b9275f58929596ceb00d14d90e3e16cd6"
  },
  "kernelspec": {
   "display_name": "Python 3.8.9 64-bit",
   "language": "python",
   "name": "python3"
  },
  "language_info": {
   "codemirror_mode": {
    "name": "ipython",
    "version": 3
   },
   "file_extension": ".py",
   "mimetype": "text/x-python",
   "name": "python",
   "nbconvert_exporter": "python",
   "pygments_lexer": "ipython3",
   "version": "3.8.9"
  },
  "orig_nbformat": 4
 },
 "nbformat": 4,
 "nbformat_minor": 2
}
