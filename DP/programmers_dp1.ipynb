{
 "cells": [
  {
   "cell_type": "code",
   "execution_count": null,
   "metadata": {},
   "outputs": [],
   "source": [
    "\"\"\"\n",
    "문제 주소 : https://programmers.co.kr/learn/courses/30/lessons/42895\n",
    "\n",
    "문제 설명\n",
    "아래와 같이 5와 사칙연산만으로 12를 표현할 수 있습니다.\n",
    "\n",
    "12 = 5 + 5 + (5 / 5) + (5 / 5)\n",
    "12 = 55 / 5 + 5 / 5\n",
    "12 = (55 + 5) / 5\n",
    "\n",
    "5를 사용한 횟수는 각각 6,5,4 입니다. 그리고 이중 가장 작은 경우는 4입니다.\n",
    "이처럼 숫자 N과 number가 주어질 때, N과 사칙연산만 사용해서 표현 할 수 있는 방법 중 N 사용횟수의 최솟값을 return 하도록 solution 함수를 작성하세요.\n",
    "\n",
    "제한사항\n",
    "N은 1 이상 9 이하입니다.\n",
    "number는 1 이상 32,000 이하입니다.\n",
    "수식에는 괄호와 사칙연산만 가능하며 나누기 연산에서 나머지는 무시합니다.\n",
    "최솟값이 8보다 크면 -1을 return 합니다.\n",
    "입출력 예\n",
    "N\tnumber\treturn\n",
    "5\t12\t4\n",
    "2\t11\t3\n",
    "입출력 예 설명\n",
    "예제 #1\n",
    "문제에 나온 예와 같습니다.\n",
    "\n",
    "예제 #2\n",
    "11 = 22 / 2와 같이 2를 3번만 사용하여 표현할 수 있습니다.\n",
    "\"\"\""
   ]
  },
  {
   "cell_type": "code",
   "execution_count": null,
   "metadata": {},
   "outputs": [],
   "source": [
    "import numpy as np\n",
    "\n",
    "def calculate_4(arA,arB):\n",
    "    result = [] \n",
    "    for b in arB:\n",
    "        result.extend(arA-b)\n",
    "        result.extend(arA+b)\n",
    "        result.extend(arA*b)\n",
    "        result.extend(arA/b)\n",
    "    result = [i for i in result if 1<=i and 32000>=i]\n",
    "    return result\n",
    "\n",
    "def sol(N,number):\n",
    "    dp = [0] * 9\n",
    "    dp[0] = [0]\n",
    "    dp[1] = np.array([N])\n",
    "\n",
    "    for i in range(2, 9):\n",
    "        for j in range(i):\n",
    "            if j==0:\n",
    "                temp = [N*int(str(1)*i)]\n",
    "            else:\n",
    "                temp.extend(calculate_4(dp[i-j],dp[j]))\n",
    "        temp = list(set(temp))\n",
    "\n",
    "        if number in temp: \n",
    "            return i\n",
    "        dp[i] = np.array(temp)\n",
    "    return -1"
   ]
  }
 ],
 "metadata": {
  "language_info": {
   "name": "python"
  },
  "orig_nbformat": 4
 },
 "nbformat": 4,
 "nbformat_minor": 2
}
