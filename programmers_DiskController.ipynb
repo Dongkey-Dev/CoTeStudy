{
 "cells": [
  {
   "cell_type": "code",
   "execution_count": 2,
   "metadata": {},
   "outputs": [
    {
     "ename": "TypeError",
     "evalue": "unsupported operand type(s) for -: 'list' and 'list'",
     "output_type": "error",
     "traceback": [
      "\u001b[0;31m---------------------------------------------------------------------------\u001b[0m",
      "\u001b[0;31mTypeError\u001b[0m                                 Traceback (most recent call last)",
      "\u001b[1;32m/Users/dongho/CODE/CoTe/programmers_DiskController.ipynb Cell 1'\u001b[0m in \u001b[0;36m<cell line: 1>\u001b[0;34m()\u001b[0m\n\u001b[0;32m----> <a href='vscode-notebook-cell:/Users/dongho/CODE/CoTe/programmers_DiskController.ipynb#ch0000002?line=0'>1</a>\u001b[0m [\u001b[39m1\u001b[39;49m,\u001b[39m2\u001b[39;49m,\u001b[39m3\u001b[39;49m,\u001b[39m4\u001b[39;49m] \u001b[39m-\u001b[39;49m [\u001b[39m2\u001b[39;49m,\u001b[39m4\u001b[39;49m]\n",
      "\u001b[0;31mTypeError\u001b[0m: unsupported operand type(s) for -: 'list' and 'list'"
     ]
    }
   ],
   "source": [
    "[1,2,3,4] - [2,4]"
   ]
  },
  {
   "cell_type": "code",
   "execution_count": 14,
   "metadata": {},
   "outputs": [
    {
     "data": {
      "text/plain": [
       "[3, 2, 1]"
      ]
     },
     "execution_count": 14,
     "metadata": {},
     "output_type": "execute_result"
    }
   ],
   "source": [
    "[1,2,3,4][:-1][::-1]"
   ]
  },
  {
   "cell_type": "code",
   "execution_count": 44,
   "metadata": {},
   "outputs": [
    {
     "name": "stdout",
     "output_type": "stream",
     "text": [
      "1\n",
      "1\n",
      "1\n",
      "1\n",
      "1\n",
      "[1, 1, 1, 1, 1, 1]\n"
     ]
    },
    {
     "data": {
      "text/plain": [
       "15"
      ]
     },
     "execution_count": 44,
     "metadata": {},
     "output_type": "execute_result"
    }
   ],
   "source": [
    "def solution(grade):\n",
    "    answer = 0\n",
    "    rev_grade = grade[::-1].copy()\n",
    "    for i,v in enumerate(rev_grade):\n",
    "        if i == len(rev_grade)-1:\n",
    "            break\n",
    "        print(v)\n",
    "        if v < rev_grade[i+1]:\n",
    "            answer += rev_grade[i+1] - v\n",
    "            rev_grade[i+1] = v\n",
    "    print(rev_grade[::-1])\n",
    "    return answer\n",
    "\n",
    "solution([6,5,4,3,2,1])"
   ]
  },
  {
   "cell_type": "code",
   "execution_count": null,
   "metadata": {},
   "outputs": [],
   "source": [
    "from pprint import pprint as pp\n",
    "\n",
    "n = 4\n",
    "answer = [[0 for _ in range(n)] for _ in range(n)]\n",
    "answer[0][0] = 1\n",
    "for r in answer: \n",
    "    print(r)\n",
    "cnt = 2\n",
    "\n",
    "r = 0\n",
    "c = 0\n",
    "\n",
    "hor = True\n",
    "plus_c = True\n",
    "plus_r = True\n",
    "m = 2\n",
    "\n",
    "while cnt < n*n:\n",
    "    try:\n",
    "        if hor:\n",
    "            if plus_c:\n",
    "                for i in range(m):\n",
    "                    if not answer[r][i]:\n",
    "                        answer[r][i] = cnt\n",
    "                        cnt += 1\n",
    "                        c = i\n",
    "                plus_c = not plus_c\n",
    "            else:\n",
    "                for i in range(m-1, -1, -1):\n",
    "                    if not answer[r][i]:\n",
    "                        answer[r][i] = cnt \n",
    "                        cnt += 1\n",
    "                        c = i\n",
    "                plus_c = not plus_c\n",
    "            r += 1\n",
    "            \n",
    "        else:\n",
    "            if plus_r:\n",
    "                for i in range(m):\n",
    "                    if not answer[i][c]:\n",
    "                        answer[i][c] = cnt\n",
    "                        cnt += 1\n",
    "                        r = i\n",
    "                plus_r = not plus_r\n",
    "                \n",
    "            else:\n",
    "                for i in range(m-1, -1, -1):\n",
    "                    if not answer[i][c]:\n",
    "                        answer[i][c] = cnt\n",
    "                        cnt += 1\n",
    "                        r = i\n",
    "                plus_r = not plus_r\n",
    "            \n",
    "        if plus_c == plus_r:\n",
    "            hor = not hor\n",
    "            m += 1\n",
    "    except:\n",
    "        print(\"\")\n",
    "        for r in answer:\n",
    "            print(r)             \n",
    "    "
   ]
  },
  {
   "cell_type": "code",
   "execution_count": 53,
   "metadata": {},
   "outputs": [
    {
     "name": "stdout",
     "output_type": "stream",
     "text": [
      "[[0, 0, 0, 0], [0, 0, 0, 0], [0, 0, 0, 0], [0, 0, 0, 0]]\n",
      "[1, 2, 5, 10]\n",
      "[3, 4, 6, 11]\n",
      "[7, 8, 9, 12]\n",
      "[13, 14, 15, 16]\n"
     ]
    }
   ],
   "source": [
    "from pprint import pprint as pp\n",
    "\n",
    "n = 4\n",
    "answer = [[0 for _ in range(n)] for _ in range(n)]\n",
    "pp(answer)\n",
    "last = 16\n",
    "cnt = 1\n",
    "f = False\n",
    "for k in range(2, len(answer)+1):\n",
    "    for i, row in enumerate([e[:k] for e in answer[:k]]):\n",
    "        for j, e in enumerate(row):\n",
    "            if not answer[i][j]:\n",
    "                answer[i][j] = cnt\n",
    "                cnt+=1\n",
    "        f = not f\n",
    "for r in answer:\n",
    "    print(r)"
   ]
  },
  {
   "cell_type": "code",
   "execution_count": 7,
   "metadata": {},
   "outputs": [],
   "source": [
    "def insert_task_to_deque(next_jobs, jobs, now):\n",
    "    next_jobs.extend([v for v in jobs if v[0] <= now])\n",
    "    next_jobs = sorted(next_jobs, key = lambda x : x[1], reverse = True)\n",
    "    jobs = [v for v in jobs if v[0] > now]\n",
    "    return jobs, next_jobs\n",
    "\n",
    "def solution(jobs):\n",
    "    M = len(jobs)\n",
    "    time = 0\n",
    "    now = 0\n",
    "    next_jobs = [v for v in jobs if v[0] <= now]\n",
    "    jobs = [v for v in jobs if v[0] > now]\n",
    "    next_jobs = sorted(next_jobs, key = lambda x : x[1], reverse = True)\n",
    "    while next_jobs or jobs:\n",
    "        if not next_jobs:\n",
    "            now += 1\n",
    "            jobs, next_jobs = insert_task_to_deque(next_jobs, jobs, now)\n",
    "            continue\n",
    "        wait_time = 0\n",
    "        next_job = next_jobs.pop()\n",
    "        wait_time = now - next_job[0]\n",
    "        time += next_job[1] + wait_time\n",
    "        now += next_job[1]\n",
    "        if jobs:\n",
    "            jobs, next_jobs = insert_task_to_deque(next_jobs, jobs, now)\n",
    "    answer = (time)//M\n",
    "        \n",
    "    return answer"
   ]
  },
  {
   "cell_type": "code",
   "execution_count": 8,
   "metadata": {},
   "outputs": [
    {
     "data": {
      "text/plain": [
       "9"
      ]
     },
     "execution_count": 8,
     "metadata": {},
     "output_type": "execute_result"
    }
   ],
   "source": [
    "solution([[0, 3], [1, 9], [2, 6]])"
   ]
  },
  {
   "cell_type": "code",
   "execution_count": null,
   "metadata": {},
   "outputs": [],
   "source": []
  }
 ],
 "metadata": {
  "kernelspec": {
   "display_name": "Python 3.8.13 ('pyspark')",
   "language": "python",
   "name": "python3"
  },
  "language_info": {
   "codemirror_mode": {
    "name": "ipython",
    "version": 3
   },
   "file_extension": ".py",
   "mimetype": "text/x-python",
   "name": "python",
   "nbconvert_exporter": "python",
   "pygments_lexer": "ipython3",
   "version": "3.8.13"
  },
  "orig_nbformat": 4,
  "vscode": {
   "interpreter": {
    "hash": "0cc6d34fbbc4974589f3b786d004afe9857b668a1de18edcda9cd1968b469632"
   }
  }
 },
 "nbformat": 4,
 "nbformat_minor": 2
}
