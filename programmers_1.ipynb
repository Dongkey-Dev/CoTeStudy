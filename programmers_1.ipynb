{
 "cells": [
  {
   "cell_type": "code",
   "execution_count": null,
   "metadata": {},
   "outputs": [],
   "source": [
    "import numpy as np\n",
    "\n",
    "def solution(n, cores):\n",
    "    answer = 0\n",
    "    npa = np.array(cores)\n",
    "    n-=len(cores)\n",
    "    while n!=0:\n",
    "        npa-=1\n",
    "        if np.in1d(npa, 0).any():\n",
    "            idx_list = np.where(np.in1d(npa, 0) == True)[0]\n",
    "            for idx in idx_list:\n",
    "                idx = int(idx)\n",
    "                npa[idx]=cores[idx]\n",
    "                n-=1\n",
    "                if n == 0:\n",
    "                    answer = idx\n",
    "                    break\n",
    "    \n",
    "    return idx+1"
   ]
  },
  {
   "cell_type": "code",
   "execution_count": 62,
   "metadata": {},
   "outputs": [
    {
     "data": {
      "text/plain": [
       "[[0, 1], [1, 2], [2, 3], [3, 2], [4, 4], [5, 5]]"
      ]
     },
     "execution_count": 62,
     "metadata": {},
     "output_type": "execute_result"
    }
   ],
   "source": [
    "cores = [1,2,3,2,4,5]\n",
    "cores = [[i,v] for i,v in enumerate(cores)]\n",
    "cores"
   ]
  },
  {
   "cell_type": "code",
   "execution_count": 63,
   "metadata": {},
   "outputs": [
    {
     "data": {
      "text/plain": [
       "[[0, 1], [1, 2], [3, 2], [2, 3], [4, 4], [5, 5]]"
      ]
     },
     "execution_count": 63,
     "metadata": {},
     "output_type": "execute_result"
    }
   ],
   "source": [
    "sorted(cores, key=lambda x : x[1])"
   ]
  },
  {
   "cell_type": "code",
   "execution_count": null,
   "metadata": {},
   "outputs": [],
   "source": []
  }
 ],
 "metadata": {
  "interpreter": {
   "hash": "31f2aee4e71d21fbe5cf8b01ff0e069b9275f58929596ceb00d14d90e3e16cd6"
  },
  "kernelspec": {
   "display_name": "Python 3.8.9 64-bit",
   "language": "python",
   "name": "python3"
  },
  "language_info": {
   "codemirror_mode": {
    "name": "ipython",
    "version": 3
   },
   "file_extension": ".py",
   "mimetype": "text/x-python",
   "name": "python",
   "nbconvert_exporter": "python",
   "pygments_lexer": "ipython3",
   "version": "3.8.5"
  },
  "orig_nbformat": 4
 },
 "nbformat": 4,
 "nbformat_minor": 2
}
