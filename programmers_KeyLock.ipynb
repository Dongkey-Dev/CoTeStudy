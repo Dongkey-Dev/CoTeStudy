{
 "cells": [
  {
   "cell_type": "code",
   "execution_count": 136,
   "metadata": {},
   "outputs": [],
   "source": [
    "from copy import deepcopy\n",
    "\n",
    "def rotate_90(key, count):\n",
    "    new_key = key.copy()\n",
    "    for _ in range(count):\n",
    "        for i in range(len(key)):\n",
    "            new_key[i] = [row[i] for row in key[::-1]]\n",
    "        key = new_key.copy()\n",
    "    return new_key\n",
    "\n",
    "def make_new_key(emp_key, key, x, y):\n",
    "    new_key = deepcopy(emp_key)\n",
    "    for i in range(len(key)):\n",
    "        new_row = deepcopy(new_key[x+i])\n",
    "        for j in range(len(key)):\n",
    "            new_row[y+j] = key[i][j]\n",
    "        new_key[x+i] = new_row\n",
    "    return new_key        \n",
    "\n",
    "def make_key_list(key, emp_lock_s):\n",
    "    key_s = len(key)\n",
    "    new_key_list = []\n",
    "    diff = key_s - 1\n",
    "    new_key_t = [[0] * (emp_lock_s + (2*key_s -2))] * (emp_lock_s + (2*key_s -2))\n",
    "    for x in range(emp_lock_s + key_s -1):\n",
    "        for y in range(emp_lock_s + key_s -1):\n",
    "            new_key = make_new_key(new_key_t, key, x,y)\n",
    "            new_key = new_key[diff:-diff]            \n",
    "            new_key = [row[diff:-diff] for row in new_key]\n",
    "            new_key_list.append(new_key)\n",
    "    return new_key_list\n",
    "\n",
    "def check_correct(key, lock):\n",
    "    lock_d = deepcopy(lock)\n",
    "    for i, row in enumerate(key):\n",
    "        new_row = deepcopy(lock_d[i])\n",
    "        for j, el in enumerate(row):\n",
    "            new_row[j] += el\n",
    "            if new_row[j] != 1:\n",
    "                return False\n",
    "        lock_d[i] = new_row\n",
    "    return True\n",
    "                \n",
    "def solution(key, lock):    \n",
    "    key_s = len(key)\n",
    "    lock_s = len(lock)\n",
    "    try_list = []\n",
    "    \n",
    "    for i in range(4):\n",
    "        rotated_key = rotate_90(key.copy(), i)\n",
    "        try_list.extend(make_key_list(rotated_key, lock_s))\n",
    "    \n",
    "    for k in try_list:\n",
    "        if check_correct(k, lock):\n",
    "            return True\n",
    "    return False"
   ]
  },
  {
   "cell_type": "code",
   "execution_count": 137,
   "metadata": {},
   "outputs": [
    {
     "name": "stdout",
     "output_type": "stream",
     "text": [
      "[1, 1, 1]\n",
      "[1, 1, 1]\n",
      "[1, 1, 1]\n"
     ]
    },
    {
     "data": {
      "text/plain": [
       "True"
      ]
     },
     "execution_count": 137,
     "metadata": {},
     "output_type": "execute_result"
    }
   ],
   "source": [
    "solution([[0, 0, 0], [1, 0, 0], [0, 1, 1]], [[1, 1, 1], [1, 1, 0], [1, 0, 1]])"
   ]
  },
  {
   "cell_type": "code",
   "execution_count": 31,
   "metadata": {},
   "outputs": [
    {
     "data": {
      "text/plain": [
       "[[2, 3, 4], [2, 3, 4], [2, 3, 4]]"
      ]
     },
     "execution_count": 31,
     "metadata": {},
     "output_type": "execute_result"
    }
   ],
   "source": [
    "new_key = [[1,2,3,4,5],[1,2,3,4,5],[1,2,3,4,5],[1,2,3,4,5],[1,2,3,4,5]]\n",
    "diff = 1\n",
    "new_key = new_key[diff:-diff]\n",
    "new_key = [row[diff:-diff] for row in new_key]\n",
    "new_key"
   ]
  },
  {
   "cell_type": "code",
   "execution_count": 62,
   "metadata": {},
   "outputs": [
    {
     "data": {
      "text/plain": [
       "[1, 3]"
      ]
     },
     "execution_count": 62,
     "metadata": {},
     "output_type": "execute_result"
    }
   ],
   "source": [
    "a = [1]\n",
    "a.extend([3])\n",
    "a"
   ]
  },
  {
   "cell_type": "code",
   "execution_count": 40,
   "metadata": {},
   "outputs": [
    {
     "name": "stdout",
     "output_type": "stream",
     "text": [
      "[1, 2, 3, 4, 5, 6, 7]\n",
      "[1, 2, 3, 4, 5, 6, 7]\n",
      "[1, 2, 3, 4, 5, 6, 7]\n",
      "[1, 2, 3, 4, 5, 6, 7]\n",
      "[1, 2, 3, 4, 5, 6, 7]\n",
      "[1, 2, 3, 4, 5, 6, 7]\n",
      "[1, 2, 3, 4, 5, 6, 7]\n"
     ]
    }
   ],
   "source": [
    "for r in [[1,2,3,4,5,6,7],[1,2,3,4,5,6,7],[1,2,3,4,5,6,7],[1,2,3,4,5,6,7],[1,2,3,4,5,6,7],[1,2,3,4,5,6,7],[1,2,3,4,5,6,7]]:\n",
    "    print(r)"
   ]
  },
  {
   "cell_type": "code",
   "execution_count": null,
   "metadata": {},
   "outputs": [],
   "source": []
  }
 ],
 "metadata": {
  "kernelspec": {
   "display_name": "Python 3.8.13 ('pyspark')",
   "language": "python",
   "name": "python3"
  },
  "language_info": {
   "codemirror_mode": {
    "name": "ipython",
    "version": 3
   },
   "file_extension": ".py",
   "mimetype": "text/x-python",
   "name": "python",
   "nbconvert_exporter": "python",
   "pygments_lexer": "ipython3",
   "version": "3.8.13"
  },
  "orig_nbformat": 4,
  "vscode": {
   "interpreter": {
    "hash": "0cc6d34fbbc4974589f3b786d004afe9857b668a1de18edcda9cd1968b469632"
   }
  }
 },
 "nbformat": 4,
 "nbformat_minor": 2
}
