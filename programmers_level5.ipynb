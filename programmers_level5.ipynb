{
 "cells": [
  {
   "cell_type": "code",
   "execution_count": 1,
   "metadata": {},
   "outputs": [],
   "source": [
    "def solution(money):\n",
    "    if len(money) > 3:\n",
    "        money_cfirst = money[:-1]\n",
    "        money_clast = money[1:]\n",
    "    else:\n",
    "        return max(money)\n",
    "        \n",
    "    answer = 0\n",
    "    dp_1 = [0 for _ in range(len(money_cfirst)+1)]\n",
    "    dp_2 = [0 for _ in range(len(money_clast)+1)]\n",
    "    \n",
    "    dp_1[1] = money_cfirst[0]\n",
    "    dp_1[2] = max(dp_1[1], money_cfirst[1])\n",
    "    \n",
    "    dp_2[1] = money_clast[0]\n",
    "    dp_2[2] = max(dp_2[1], money_clast[1])\n",
    "    \n",
    "    for i in range(3, len(money_cfirst)+1):\n",
    "        dp_1[i] = max(dp_1[i-2] + money_cfirst[i-1], dp_1[i-1])\n",
    "    for i in range(3, len(money_clast)+1):\n",
    "        dp_2[i] = max(dp_2[i-2] + money_clast[i-1], dp_2[i-1])        \n",
    "    \n",
    "    answer = max(max(dp_1), max(dp_2))\n",
    "    \n",
    "    return answer"
   ]
  },
  {
   "cell_type": "code",
   "execution_count": 2,
   "metadata": {},
   "outputs": [
    {
     "data": {
      "text/plain": [
       "4"
      ]
     },
     "execution_count": 2,
     "metadata": {},
     "output_type": "execute_result"
    }
   ],
   "source": [
    "solution([1,2,3,1])"
   ]
  },
  {
   "cell_type": "code",
   "execution_count": null,
   "metadata": {},
   "outputs": [],
   "source": [
    "def solution(money):\n",
    "    money.append(money[0])\n",
    "    answer = 0\n",
    "    dp = [0 for _ in range(len(money))]\n",
    "    dp[1] = money[0]\n",
    "    dp[2] = max(dp[1], money[1])\n",
    "    for i in range(len(3, money)+1):\n",
    "        dp[i] = max(dp[i-2], money[i-1])\n",
    "    \n",
    "    return answer"
   ]
  },
  {
   "cell_type": "code",
   "execution_count": 22,
   "metadata": {},
   "outputs": [
    {
     "data": {
      "text/plain": [
       "[3, 2, 4, 1, 0]"
      ]
     },
     "execution_count": 22,
     "metadata": {},
     "output_type": "execute_result"
    }
   ],
   "source": [
    "def solution(words, queries):\n",
    "    answer = [0 for _ in range(len(queries))]\n",
    "    words = list(set(words))\n",
    "    for i, query in enumerate(queries):\n",
    "        n = 0\n",
    "        for word in words:\n",
    "            if len(query) != len(word):\n",
    "                continue\n",
    "            if query[0] != '?':\n",
    "                q = query.replace('?','')\n",
    "                if q == word[:len(q)]:\n",
    "                    n+=1\n",
    "            else:\n",
    "                q = query.replace('?','')\n",
    "                if q == word[len(query)-len(q):]:\n",
    "                    n+=1\n",
    "            # for j, spell in enumerate(query):\n",
    "            #     if spell == '?' or spell == word[j]:\n",
    "            #         if j+1 == len(query):\n",
    "            #             n+=1\n",
    "            #         else:\n",
    "            #             continue\n",
    "            #     else:\n",
    "            #         break\n",
    "        answer[i] = n\n",
    "    return answer\n",
    "\n",
    "solution([\"frodo\", \"front\", \"frost\", \"frozen\", \"frame\", \"kakao\"],[\"fro??\", \"????o\", \"fr???\", \"fro???\", \"pro?\"])"
   ]
  }
 ],
 "metadata": {
  "interpreter": {
   "hash": "936d79e709e726142d88a4bc22f2abe68e0bae3d10b40ab0d3d2a97f13798241"
  },
  "kernelspec": {
   "display_name": "Python 3.8.3 ('base')",
   "language": "python",
   "name": "python3"
  },
  "language_info": {
   "codemirror_mode": {
    "name": "ipython",
    "version": 3
   },
   "file_extension": ".py",
   "mimetype": "text/x-python",
   "name": "python",
   "nbconvert_exporter": "python",
   "pygments_lexer": "ipython3",
   "version": "3.8.9"
  },
  "orig_nbformat": 4
 },
 "nbformat": 4,
 "nbformat_minor": 2
}
