{
 "cells": [
  {
   "cell_type": "code",
   "execution_count": 10,
   "metadata": {},
   "outputs": [
    {
     "data": {
      "text/plain": [
       "3"
      ]
     },
     "execution_count": 10,
     "metadata": {},
     "output_type": "execute_result"
    }
   ],
   "source": [
    "from collections import deque\n",
    "\n",
    "def solution(n, edge):\n",
    "    answer = 0\n",
    "    history = [0 for _ in range(n+1)]\n",
    "    gp = [[] for _ in range(n+1)]\n",
    "    for l in edge:\n",
    "        gp[l[0]].append(l[1])\n",
    "        gp[l[1]].append(l[0])\n",
    "    \n",
    "    for i in range(n):\n",
    "        gp[i] = list(set(gp[i]))\n",
    "            \n",
    "    his = bfs(1, gp, history)\n",
    "    answer = his[2:].count(max(his))\n",
    "    return answer\n",
    "\n",
    "def bfs(start, gp, history):\n",
    "    count = 0\n",
    "    deq = deque([[start, count]])\n",
    "    while deq:\n",
    "        cur = deq.popleft()\n",
    "        n = cur[0]\n",
    "        c = cur[1]\n",
    "        if not history[n]:\n",
    "            history[n] = c\n",
    "            for l in gp[n]:\n",
    "                deq.append([l, c+1])\n",
    "    return history\n",
    "\n",
    "solution(6,[[3, 6], [4, 3], [3, 2], [1, 3], [1, 2], [2, 4], [5, 2]])"
   ]
  },
  {
   "cell_type": "code",
   "execution_count": 16,
   "metadata": {},
   "outputs": [
    {
     "data": {
      "text/plain": [
       "array([ True,  True,  True, ..., False, False, False])"
      ]
     },
     "execution_count": 16,
     "metadata": {},
     "output_type": "execute_result"
    }
   ],
   "source": [
    "import numpy as np \n",
    "\n",
    "list_a = [i for i in range(10000000)]\n",
    "list_b = [i for i in range(1000)]\n",
    "\n",
    "# [i for i in list_a if i in list_b]\n",
    "\n",
    "np.in1d(list_a, list_b)"
   ]
  }
 ],
 "metadata": {
  "interpreter": {
   "hash": "916dbcbb3f70747c44a77c7bcd40155683ae19c65e1c03b4aa3499c5328201f1"
  },
  "kernelspec": {
   "display_name": "Python 3.8.10 64-bit",
   "language": "python",
   "name": "python3"
  },
  "language_info": {
   "codemirror_mode": {
    "name": "ipython",
    "version": 3
   },
   "file_extension": ".py",
   "mimetype": "text/x-python",
   "name": "python",
   "nbconvert_exporter": "python",
   "pygments_lexer": "ipython3",
   "version": "3.8.10"
  },
  "orig_nbformat": 4
 },
 "nbformat": 4,
 "nbformat_minor": 2
}
