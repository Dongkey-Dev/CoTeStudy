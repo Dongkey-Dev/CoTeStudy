{
 "cells": [
  {
   "cell_type": "code",
   "execution_count": 36,
   "metadata": {},
   "outputs": [],
   "source": [
    "class node:\n",
    "    def __init__(self, up = \"-\"):\n",
    "        self.up = \"\" if up == \"-\" else up\n",
    "        self.money = 0\n",
    "        \n",
    "    def upto10(self, income):\n",
    "        self.money += income - income//10\n",
    "        if self.up and income > 9:\n",
    "            globals()[f\"node_{self.up}\"].upto10(income//10)\n",
    "        \n",
    "def solution(enroll, referral, seller, amount):\n",
    "    price = 100\n",
    "    globals()[\"node_map\"] = {}\n",
    "    for roll, ref in zip(enroll, referral):\n",
    "        globals()[f\"node_{roll}\"] = node(ref)\n",
    "    for seller_name, amt in zip(seller, amount):\n",
    "        globals()[f\"node_{seller_name}\"].upto10(price * amt)\n",
    "    answer = [round(globals()[f\"node_{cur}\"].money) for cur in enroll]\n",
    "    return answer"
   ]
  },
  {
   "cell_type": "code",
   "execution_count": 37,
   "metadata": {},
   "outputs": [
    {
     "data": {
      "text/plain": [
       "[360, 958, 108, 0, 450, 18, 180, 1080]"
      ]
     },
     "execution_count": 37,
     "metadata": {},
     "output_type": "execute_result"
    }
   ],
   "source": [
    "solution([\"john\", \"mary\", \"edward\", \"sam\", \"emily\", \"jaimie\", \"tod\", \"young\"],\n",
    "         [\"-\", \"-\", \"mary\", \"edward\", \"mary\", \"mary\", \"jaimie\", \"edward\"],\n",
    "         [\"young\", \"john\", \"tod\", \"emily\", \"mary\"],\n",
    "         [12, 4, 2, 5, 10])"
   ]
  }
 ],
 "metadata": {
  "kernelspec": {
   "display_name": "Python 3.8.13 ('pyspark')",
   "language": "python",
   "name": "python3"
  },
  "language_info": {
   "codemirror_mode": {
    "name": "ipython",
    "version": 3
   },
   "file_extension": ".py",
   "mimetype": "text/x-python",
   "name": "python",
   "nbconvert_exporter": "python",
   "pygments_lexer": "ipython3",
   "version": "3.8.13"
  },
  "orig_nbformat": 4,
  "vscode": {
   "interpreter": {
    "hash": "0cc6d34fbbc4974589f3b786d004afe9857b668a1de18edcda9cd1968b469632"
   }
  }
 },
 "nbformat": 4,
 "nbformat_minor": 2
}
