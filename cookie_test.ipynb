{
 "cells": [
  {
   "cell_type": "code",
   "execution_count": null,
   "metadata": {},
   "outputs": [],
   "source": [
    "\"\"\"\"\n",
    "\n",
    "문제 2 \n",
    "\n",
    "server : 최고 호가가 중복이라면, 먼저 제시한사람에게 낙찰 \n",
    "            입찰이 없으면 무효\n",
    "\n",
    "seller : to server : 작품 이름 / 경매 시작 / 경매 종료\n",
    "\n",
    "client : to server : 원하는 작품에 호가 제시\n",
    "                    낙찰이 되면, 갖고있는 잔고에서 호가 차감\n",
    "                    만약 잔고가 낮다면 낙찰 x \n",
    "\n",
    "\"\"\""
   ]
  },
  {
   "cell_type": "code",
   "execution_count": 2,
   "metadata": {},
   "outputs": [
    {
     "data": {
      "text/html": [
       "<div>\n",
       "<style scoped>\n",
       "    .dataframe tbody tr th:only-of-type {\n",
       "        vertical-align: middle;\n",
       "    }\n",
       "\n",
       "    .dataframe tbody tr th {\n",
       "        vertical-align: top;\n",
       "    }\n",
       "\n",
       "    .dataframe thead th {\n",
       "        text-align: right;\n",
       "    }\n",
       "</style>\n",
       "<table border=\"1\" class=\"dataframe\">\n",
       "  <thead>\n",
       "    <tr style=\"text-align: right;\">\n",
       "      <th></th>\n",
       "      <th>obj_name</th>\n",
       "      <th>seller</th>\n",
       "      <th>caller_info</th>\n",
       "      <th>max_call_price_info</th>\n",
       "    </tr>\n",
       "  </thead>\n",
       "  <tbody>\n",
       "    <tr>\n",
       "      <th>0</th>\n",
       "      <td></td>\n",
       "      <td></td>\n",
       "      <td></td>\n",
       "      <td></td>\n",
       "    </tr>\n",
       "  </tbody>\n",
       "</table>\n",
       "</div>"
      ],
      "text/plain": [
       "  obj_name seller caller_info max_call_price_info\n",
       "0                                                "
      ]
     },
     "execution_count": 2,
     "metadata": {},
     "output_type": "execute_result"
    }
   ],
   "source": [
    "import pandas as pd \n",
    "        \n",
    "def get_book():\n",
    "    try:\n",
    "        src = \"auction_book.xlsx\"\n",
    "        df = pd.read_excel('auction_book.xlsx')\n",
    "        return df\n",
    "    except :\n",
    "        data = {\n",
    "            \"obj_id\" : \"\",\n",
    "            \"obj_name\": \"\",\n",
    "            \"seller\": \"\",\n",
    "            \"caller_info\": [],\n",
    "            \"max_call_price_info\": \"\"\n",
    "        }\n",
    "        return pd.DataFrame([data])\n",
    "    \n",
    "def auc_regist(order_regist):\n",
    "    df = get_book()\n",
    "    data = {}\n",
    "    for k,v in order_regist.items():\n",
    "        data[k] = v\n",
    "    df = df.append( pd.DataFrame(data) )\n",
    "        \n",
    "def auc_call(order_call):\n",
    "    df = get_book()\n",
    "    obj_id = order_call['obj_id']\n",
    "    caller_info = order_call['call_info']\n",
    "    target_df = df[df['obj_id'] == obj_id]\n",
    "    target_df['']\n",
    "    \n",
    "    pass\n",
    "\n",
    "get_book()    \n"
   ]
  },
  {
   "cell_type": "code",
   "execution_count": 36,
   "metadata": {},
   "outputs": [],
   "source": [
    "class Player:\n",
    "    def __init__(self):\n",
    "        self.player_stat = self.init_stat()\n",
    "        self.last_play_game = 0\n",
    "        self.required_exp_per_level = 5\n",
    "        \n",
    "    def init_stat(self):\n",
    "        player_stat = {\n",
    "            \"level\": 1,\n",
    "            \"stamina\": 33,\n",
    "            \"max_stamina\": 33,\n",
    "            \"exp\": 0,\n",
    "            \"max_exp\": 5\n",
    "        }\n",
    "        return player_stat\n",
    "    \n",
    "    def level_up(self):\n",
    "        self.player_stat['level'] += 1\n",
    "        self.player_stat['max_stamina'] = 30 + self.player_stat['level'] * 3\n",
    "        self.player_stat['stamina'] += self.player_stat['max_stamina']        \n",
    "        self.player_stat['exp'] = 0\n",
    "        self.player_stat['max_exp'] += self.required_exp_per_level\n",
    "    \n",
    "    def check_recovery_stamina(self, t):\n",
    "        after_last_play_t = t - self.last_play_game\n",
    "        recovery_stat = after_last_play_t//5\n",
    "        if recovery_stat > 0 :\n",
    "            self.last_play_game = t - self.last_play_game\n",
    "        recovery_stat = min(recovery_stat, self.player_stat['max_stamina'] - self.player_stat['stamina'])\n",
    "        recovery_stat = max(recovery_stat, 0)\n",
    "        return recovery_stat\n",
    "    \n",
    "    def PlayGame(self, t):\n",
    "        self.last_play_game = t\n",
    "        if self.player_stat['stamina'] < 5:\n",
    "            return \"ERROR\"         \n",
    "        \n",
    "        recovery_stat = self.check_recovery_stamina(t)\n",
    "        if recovery_stat:\n",
    "            self.player_stat['stamina'] += recovery_stat\n",
    "        \n",
    "        self.player_stat['stamina'] -= 5\n",
    "        self.player_stat['exp'] += 1\n",
    "        if self.player_stat['exp'] == self.player_stat['max_exp']:\n",
    "            self.level_up()\n",
    "\n",
    "    def Lookup(self, t):\n",
    "        recovery_stat = self.check_recovery_stamina(t)\n",
    "        if recovery_stat:\n",
    "            self.player_stat['stamina'] += recovery_stat\n",
    "        \n",
    "        level, stamina, max_stamina = self.player_stat['level'], self.player_stat['stamina'], self.player_stat['max_stamina']\n",
    "        msg = f\"{level} {stamina} {max_stamina}\"\n",
    "        print(msg)"
   ]
  },
  {
   "cell_type": "code",
   "execution_count": 39,
   "metadata": {},
   "outputs": [
    {
     "name": "stdout",
     "output_type": "stream",
     "text": [
      "1 19 33\n",
      "1 19 33\n",
      "1 19 33\n"
     ]
    }
   ],
   "source": [
    "player1 = Player()\n",
    "\n",
    "player1.PlayGame(1)\n",
    "player1.PlayGame(2)\n",
    "player1.PlayGame(3)\n",
    "\n",
    "player1.Lookup(10)\n",
    "player1.Lookup(10)\n",
    "player1.Lookup(10)"
   ]
  },
  {
   "cell_type": "code",
   "execution_count": 5,
   "metadata": {},
   "outputs": [
    {
     "data": {
      "text/plain": [
       "'1 33 33'"
      ]
     },
     "execution_count": 5,
     "metadata": {},
     "output_type": "execute_result"
    }
   ],
   "source": [
    "player1.Lookup(1)"
   ]
  },
  {
   "cell_type": "code",
   "execution_count": 6,
   "metadata": {},
   "outputs": [
    {
     "data": {
      "text/plain": [
       "'1 28 33'"
      ]
     },
     "execution_count": 6,
     "metadata": {},
     "output_type": "execute_result"
    }
   ],
   "source": [
    "player1.PlayGame(2)\n",
    "player1.Lookup(2)"
   ]
  },
  {
   "cell_type": "code",
   "execution_count": 7,
   "metadata": {},
   "outputs": [
    {
     "data": {
      "text/plain": [
       "{'level': 1, 'stamina': 28, 'max_stamina': 33, 'exp': 1, 'max_exp': 5}"
      ]
     },
     "execution_count": 7,
     "metadata": {},
     "output_type": "execute_result"
    }
   ],
   "source": [
    "player1.player_stat"
   ]
  },
  {
   "cell_type": "code",
   "execution_count": null,
   "metadata": {},
   "outputs": [],
   "source": []
  }
 ],
 "metadata": {
  "kernelspec": {
   "display_name": "Python 3.8.13 ('pyspark')",
   "language": "python",
   "name": "python3"
  },
  "language_info": {
   "codemirror_mode": {
    "name": "ipython",
    "version": 3
   },
   "file_extension": ".py",
   "mimetype": "text/x-python",
   "name": "python",
   "nbconvert_exporter": "python",
   "pygments_lexer": "ipython3",
   "version": "3.8.13"
  },
  "orig_nbformat": 4,
  "vscode": {
   "interpreter": {
    "hash": "0cc6d34fbbc4974589f3b786d004afe9857b668a1de18edcda9cd1968b469632"
   }
  }
 },
 "nbformat": 4,
 "nbformat_minor": 2
}
